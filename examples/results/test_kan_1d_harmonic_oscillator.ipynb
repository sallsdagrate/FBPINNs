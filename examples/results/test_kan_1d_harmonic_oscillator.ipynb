{
 "cells": [
  {
   "cell_type": "code",
   "id": "initial_id",
   "metadata": {
    "collapsed": true,
    "ExecuteTime": {
     "end_time": "2025-03-02T01:42:05.862783Z",
     "start_time": "2025-03-02T01:42:02.305803Z"
    }
   },
   "source": [
    "import jax.numpy as jnp\n",
    "from fbpinns.problems import Problem\n",
    "import numpy as np\n",
    "from fbpinns.domains import RectangularDomainND\n",
    "\n",
    "domain = RectangularDomainND\n",
    "domain_init_kwargs = dict(\n",
    "    xmin=np.array([0.,]),\n",
    "    xmax=np.array([1.,]),# solve the problem over the domain [0, 1]\n",
    ")"
   ],
   "outputs": [],
   "execution_count": 3
  },
  {
   "metadata": {
    "ExecuteTime": {
     "end_time": "2025-03-02T01:42:05.872242Z",
     "start_time": "2025-03-02T01:42:05.862783Z"
    }
   },
   "cell_type": "code",
   "source": [
    "class HarmonicOscillator1D(Problem):\n",
    "    \"\"\"Solves the time-dependent damped harmonic oscillator\n",
    "          d^2 u      du\n",
    "        m ----- + mu -- + ku = 0\n",
    "          dt^2       dt\n",
    "\n",
    "        Boundary conditions:\n",
    "        u (0) = 1\n",
    "        u'(0) = 0\n",
    "    \"\"\"\n",
    "\n",
    "    @staticmethod\n",
    "    def init_params(d=2, w0=20):\n",
    "\n",
    "        mu, k = 2*d, w0**2\n",
    "\n",
    "        static_params = {\n",
    "            \"dims\":(1,1),\n",
    "            \"d\":d,\n",
    "            \"w0\":w0,\n",
    "            \"mu\":mu,\n",
    "            \"k\":k,\n",
    "            }\n",
    "\n",
    "        return static_params, {}\n",
    "\n",
    "    @staticmethod\n",
    "    def sample_constraints(all_params, domain, key, sampler, batch_shapes):\n",
    "\n",
    "        # physics loss\n",
    "        x_batch_phys = domain.sample_interior(all_params, key, sampler, batch_shapes[0])\n",
    "        required_ujs_phys = (\n",
    "            (0,()),\n",
    "            (0,(0,)),\n",
    "            (0,(0,0))\n",
    "        )\n",
    "\n",
    "        # boundary loss\n",
    "        x_batch_boundary = jnp.array([0.]).reshape((1,1))\n",
    "        u_boundary = jnp.array([1.]).reshape((1,1))\n",
    "        ut_boundary = jnp.array([0.]).reshape((1,1))\n",
    "        required_ujs_boundary = (\n",
    "            (0,()),\n",
    "            (0,(0,)),\n",
    "        )\n",
    "\n",
    "        return [[x_batch_phys, required_ujs_phys], [x_batch_boundary, u_boundary, ut_boundary, required_ujs_boundary]]\n",
    "\n",
    "    @staticmethod\n",
    "    def loss_fn(all_params, constraints):\n",
    "\n",
    "        mu, k = all_params[\"static\"][\"problem\"][\"mu\"], all_params[\"static\"][\"problem\"][\"k\"]\n",
    "\n",
    "        # physics loss\n",
    "        _, u, ut, utt = constraints[0]\n",
    "        phys = jnp.mean((utt + mu*ut + k*u)**2)\n",
    "\n",
    "        # boundary loss\n",
    "        _, uc, utc, u, ut = constraints[1]\n",
    "        boundary = 1e6*jnp.mean((u-uc)**2) + 1e2*jnp.mean((ut-utc)**2)\n",
    "\n",
    "        return phys + boundary\n",
    "\n",
    "    @staticmethod\n",
    "    def exact_solution(all_params, x_batch, batch_shape=None):\n",
    "\n",
    "        d, w0 = all_params[\"static\"][\"problem\"][\"d\"], all_params[\"static\"][\"problem\"][\"w0\"]\n",
    "\n",
    "        w = jnp.sqrt(w0**2-d**2)\n",
    "        phi = jnp.arctan(-d/w)\n",
    "        A = 1/(2*jnp.cos(phi))\n",
    "        cos = jnp.cos(phi + w * x_batch)\n",
    "        exp = jnp.exp(-d * x_batch)\n",
    "        u = exp * 2 * A * cos\n",
    "\n",
    "        return u\n",
    "\n",
    "problem = HarmonicOscillator1D\n",
    "problem_init_kwargs=dict(\n",
    "    d=2, w0=80,# define the ODE parameters\n",
    ")"
   ],
   "id": "7576c9abcc2da1af",
   "outputs": [],
   "execution_count": 4
  },
  {
   "metadata": {
    "ExecuteTime": {
     "end_time": "2025-03-02T01:42:05.883853Z",
     "start_time": "2025-03-02T01:42:05.876360Z"
    }
   },
   "cell_type": "code",
   "source": [
    "from fbpinns.decompositions import RectangularDecompositionND\n",
    "\n",
    "decomposition = RectangularDecompositionND# use a rectangular domain decomposition\n",
    "decomposition_init_kwargs=dict(\n",
    "    subdomain_xs=[np.linspace(0,1,15)],# use 15 equally spaced subdomains\n",
    "    subdomain_ws=[0.15*np.ones((15,))],# with widths of 0.15\n",
    "    unnorm=(0.,1.),# define unnormalisation of the subdomain networks\n",
    ")"
   ],
   "id": "8ff1589122832826",
   "outputs": [],
   "execution_count": 5
  },
  {
   "metadata": {
    "ExecuteTime": {
     "end_time": "2025-03-02T01:43:37.427330Z",
     "start_time": "2025-03-02T01:43:37.423814Z"
    }
   },
   "cell_type": "code",
   "source": [
    "from fbpinns.networks import FCN, ChebyshevKAN\n",
    "kan = ChebyshevKAN\n",
    "network_init_kwargs=dict(\n",
    "    input_dim=1,\n",
    "    output_dim=1,\n",
    "    degree=6,\n",
    ")"
   ],
   "id": "7e905f6577b359ac",
   "outputs": [],
   "execution_count": 11
  },
  {
   "metadata": {
    "ExecuteTime": {
     "end_time": "2025-03-02T01:43:39.415282Z",
     "start_time": "2025-03-02T01:43:39.409283Z"
    }
   },
   "cell_type": "code",
   "source": [
    "from fbpinns.constants import Constants\n",
    "\n",
    "c = Constants(\n",
    "    domain=domain,\n",
    "    domain_init_kwargs=domain_init_kwargs,\n",
    "    problem=problem,\n",
    "    problem_init_kwargs=problem_init_kwargs,\n",
    "    decomposition=decomposition,\n",
    "    decomposition_init_kwargs=decomposition_init_kwargs,\n",
    "    network=kan,\n",
    "    network_init_kwargs=network_init_kwargs,\n",
    "    ns=((200,),),  # use 200 collocation points for training\n",
    "    n_test=(500,),  # use 500 points for testing\n",
    "    n_steps=20000,  # number of training steps\n",
    "    clear_output=True,\n",
    ")\n",
    "\n",
    "print(c)"
   ],
   "id": "769d7205fffba429",
   "outputs": [
    {
     "name": "stdout",
     "output_type": "stream",
     "text": [
      "<fbpinns.constants.Constants object at 0x0000025E2558BD40>\n",
      "run: test\n",
      "domain: <class 'fbpinns.domains.RectangularDomainND'>\n",
      "domain_init_kwargs: {'xmin': array([0.]), 'xmax': array([1.])}\n",
      "problem: <class '__main__.HarmonicOscillator1D'>\n",
      "problem_init_kwargs: {'d': 2, 'w0': 80}\n",
      "decomposition: <class 'fbpinns.decompositions.RectangularDecompositionND'>\n",
      "decomposition_init_kwargs: {'subdomain_xs': [array([0.        , 0.07142857, 0.14285714, 0.21428571, 0.28571429,\n",
      "       0.35714286, 0.42857143, 0.5       , 0.57142857, 0.64285714,\n",
      "       0.71428571, 0.78571429, 0.85714286, 0.92857143, 1.        ])], 'subdomain_ws': [array([0.15, 0.15, 0.15, 0.15, 0.15, 0.15, 0.15, 0.15, 0.15, 0.15, 0.15,\n",
      "       0.15, 0.15, 0.15, 0.15])], 'unnorm': (0.0, 1.0)}\n",
      "network: <class 'fbpinns.networks.ChebyshevKAN'>\n",
      "network_init_kwargs: {'input_dim': 1, 'output_dim': 1, 'degree': 6}\n",
      "n_steps: 20000\n",
      "scheduler: <class 'fbpinns.schedulers.AllActiveSchedulerND'>\n",
      "scheduler_kwargs: {}\n",
      "ns: ((200,),)\n",
      "n_test: (500,)\n",
      "sampler: grid\n",
      "optimiser: <function adam at 0x0000025E25D1A0C0>\n",
      "optimiser_kwargs: {'learning_rate': 0.001}\n",
      "seed: 0\n",
      "summary_freq: 1000\n",
      "test_freq: 1000\n",
      "model_save_freq: 10000\n",
      "show_figures: True\n",
      "save_figures: False\n",
      "clear_output: True\n",
      "hostname: sumith_pc\n",
      "\n"
     ]
    }
   ],
   "execution_count": 12
  },
  {
   "metadata": {
    "ExecuteTime": {
     "end_time": "2025-03-02T01:43:51.187753Z",
     "start_time": "2025-03-02T01:43:47.889600Z"
    }
   },
   "cell_type": "code",
   "source": [
    "from fbpinns.trainers import FBPINNTrainer\n",
    "\n",
    "run = FBPINNTrainer(c)\n",
    "all_params = run.train()"
   ],
   "id": "c381b92f20a1491e",
   "outputs": [
    {
     "name": "stdout",
     "output_type": "stream",
     "text": [
      "[INFO] 2025-03-02 01:43:47 - <fbpinns.constants.Constants object at 0x0000025E2558BD40>\n",
      "run: test\n",
      "domain: <class 'fbpinns.domains.RectangularDomainND'>\n",
      "domain_init_kwargs: {'xmin': array([0.]), 'xmax': array([1.])}\n",
      "problem: <class '__main__.HarmonicOscillator1D'>\n",
      "problem_init_kwargs: {'d': 2, 'w0': 80}\n",
      "decomposition: <class 'fbpinns.decompositions.RectangularDecompositionND'>\n",
      "decomposition_init_kwargs: {'subdomain_xs': [array([0.        , 0.07142857, 0.14285714, 0.21428571, 0.28571429,\n",
      "       0.35714286, 0.42857143, 0.5       , 0.57142857, 0.64285714,\n",
      "       0.71428571, 0.78571429, 0.85714286, 0.92857143, 1.        ])], 'subdomain_ws': [array([0.15, 0.15, 0.15, 0.15, 0.15, 0.15, 0.15, 0.15, 0.15, 0.15, 0.15,\n",
      "       0.15, 0.15, 0.15, 0.15])], 'unnorm': (0.0, 1.0)}\n",
      "network: <class 'fbpinns.networks.ChebyshevKAN'>\n",
      "network_init_kwargs: {'input_dim': 1, 'output_dim': 1, 'degree': 6}\n",
      "n_steps: 20000\n",
      "scheduler: <class 'fbpinns.schedulers.AllActiveSchedulerND'>\n",
      "scheduler_kwargs: {}\n",
      "ns: ((200,),)\n",
      "n_test: (500,)\n",
      "sampler: grid\n",
      "optimiser: <function adam at 0x0000025E25D1A0C0>\n",
      "optimiser_kwargs: {'learning_rate': 0.001}\n",
      "seed: 0\n",
      "summary_freq: 1000\n",
      "test_freq: 1000\n",
      "model_save_freq: 10000\n",
      "show_figures: True\n",
      "save_figures: False\n",
      "clear_output: True\n",
      "hostname: sumith_pc\n",
      "\n",
      "[INFO] 2025-03-02 01:43:48 - Total number of subdomains: 15\n",
      "[INFO] 2025-03-02 01:43:48 - Total number of trainable parameters:\n",
      "[INFO] 2025-03-02 01:43:48 - \tnetwork: 105\n",
      "[INFO] 2025-03-02 01:43:48 - Total number of constraints: 2\n",
      "[INFO] 2025-03-02 01:43:48 - Computing exact solution..\n",
      "[INFO] 2025-03-02 01:43:48 - Computing done\n",
      "[INFO] 2025-03-02 01:43:48 - Getting test data inputs..\n",
      "[INFO] 2025-03-02 01:43:49 - [i: 0/20000] Updating active inputs..\n",
      "[INFO] 2025-03-02 01:43:49 - [i: 0/20000] Average number of points/dimension in active subdomains: 28.00\n",
      "[INFO] 2025-03-02 01:43:50 - [i: 0/20000] Updating active inputs done (0.75 s)\n",
      "[INFO] 2025-03-02 01:43:50 - [i: 0/20000] Compiling update step..\n",
      "[INFO] 2025-03-02 01:43:50 - x_batch\n",
      "[INFO] 2025-03-02 01:43:50 - (200, 1), float32, JVPTracer\n",
      "[INFO] 2025-03-02 01:43:50 - x_take\n",
      "[INFO] 2025-03-02 01:43:50 - (418, 1), float32, JVPTracer\n"
     ]
    },
    {
     "ename": "TypeError",
     "evalue": "Cannot concatenate arrays with different numbers of dimensions: got (418, 1, 1), (418, 1).",
     "output_type": "error",
     "traceback": [
      "\u001B[1;31m---------------------------------------------------------------------------\u001B[0m",
      "\u001B[1;31mTypeError\u001B[0m                                 Traceback (most recent call last)",
      "Cell \u001B[1;32mIn[13], line 4\u001B[0m\n\u001B[0;32m      1\u001B[0m \u001B[38;5;28;01mfrom\u001B[39;00m\u001B[38;5;250m \u001B[39m\u001B[38;5;21;01mfbpinns\u001B[39;00m\u001B[38;5;21;01m.\u001B[39;00m\u001B[38;5;21;01mtrainers\u001B[39;00m\u001B[38;5;250m \u001B[39m\u001B[38;5;28;01mimport\u001B[39;00m FBPINNTrainer\n\u001B[0;32m      3\u001B[0m run \u001B[38;5;241m=\u001B[39m FBPINNTrainer(c)\n\u001B[1;32m----> 4\u001B[0m all_params \u001B[38;5;241m=\u001B[39m \u001B[43mrun\u001B[49m\u001B[38;5;241;43m.\u001B[39;49m\u001B[43mtrain\u001B[49m\u001B[43m(\u001B[49m\u001B[43m)\u001B[49m\n",
      "File \u001B[1;32mS:\\FBPINNs\\fbpinns\\trainers.py:650\u001B[0m, in \u001B[0;36mFBPINNTrainer.train\u001B[1;34m(self)\u001B[0m\n\u001B[0;32m    648\u001B[0m logger\u001B[38;5;241m.\u001B[39minfo(\u001B[38;5;124mf\u001B[39m\u001B[38;5;124m\"\u001B[39m\u001B[38;5;124m[i: \u001B[39m\u001B[38;5;132;01m{\u001B[39;00mi\u001B[38;5;132;01m}\u001B[39;00m\u001B[38;5;124m/\u001B[39m\u001B[38;5;132;01m{\u001B[39;00m\u001B[38;5;28mself\u001B[39m\u001B[38;5;241m.\u001B[39mc\u001B[38;5;241m.\u001B[39mn_steps\u001B[38;5;132;01m}\u001B[39;00m\u001B[38;5;124m] Compiling update step..\u001B[39m\u001B[38;5;124m\"\u001B[39m)\n\u001B[0;32m    649\u001B[0m static_params_dynamic, static_params_static \u001B[38;5;241m=\u001B[39m partition(static_params)\n\u001B[1;32m--> 650\u001B[0m update \u001B[38;5;241m=\u001B[39m \u001B[43mFBPINN_update\u001B[49m\u001B[38;5;241;43m.\u001B[39;49m\u001B[43mlower\u001B[49m\u001B[43m(\u001B[49m\u001B[43moptimiser_fn\u001B[49m\u001B[43m,\u001B[49m\u001B[43m \u001B[49m\u001B[43mactive_opt_states\u001B[49m\u001B[43m,\u001B[49m\n\u001B[0;32m    651\u001B[0m \u001B[43m                             \u001B[49m\u001B[43mactive_params\u001B[49m\u001B[43m,\u001B[49m\u001B[43m \u001B[49m\u001B[43mfixed_params\u001B[49m\u001B[43m,\u001B[49m\u001B[43m \u001B[49m\u001B[43mstatic_params_dynamic\u001B[49m\u001B[43m,\u001B[49m\u001B[43m \u001B[49m\u001B[43mstatic_params_static\u001B[49m\u001B[43m,\u001B[49m\n\u001B[0;32m    652\u001B[0m \u001B[43m                             \u001B[49m\u001B[43mtakess\u001B[49m\u001B[43m,\u001B[49m\u001B[43m \u001B[49m\u001B[43mconstraints\u001B[49m\u001B[43m,\u001B[49m\u001B[43m \u001B[49m\u001B[43mmodel_fns\u001B[49m\u001B[43m,\u001B[49m\u001B[43m \u001B[49m\u001B[43mjmapss\u001B[49m\u001B[43m,\u001B[49m\u001B[43m \u001B[49m\u001B[43mloss_fn\u001B[49m\u001B[43m)\u001B[49m\u001B[38;5;241m.\u001B[39mcompile()\n\u001B[0;32m    653\u001B[0m logger\u001B[38;5;241m.\u001B[39minfo(\u001B[38;5;124mf\u001B[39m\u001B[38;5;124m\"\u001B[39m\u001B[38;5;124m[i: \u001B[39m\u001B[38;5;132;01m{\u001B[39;00mi\u001B[38;5;132;01m}\u001B[39;00m\u001B[38;5;124m/\u001B[39m\u001B[38;5;132;01m{\u001B[39;00m\u001B[38;5;28mself\u001B[39m\u001B[38;5;241m.\u001B[39mc\u001B[38;5;241m.\u001B[39mn_steps\u001B[38;5;132;01m}\u001B[39;00m\u001B[38;5;124m] Compiling done (\u001B[39m\u001B[38;5;132;01m{\u001B[39;00mtime\u001B[38;5;241m.\u001B[39mtime()\u001B[38;5;241m-\u001B[39mstartc\u001B[38;5;132;01m:\u001B[39;00m\u001B[38;5;124m.2f\u001B[39m\u001B[38;5;132;01m}\u001B[39;00m\u001B[38;5;124m s)\u001B[39m\u001B[38;5;124m\"\u001B[39m)\n\u001B[0;32m    654\u001B[0m cost_ \u001B[38;5;241m=\u001B[39m update\u001B[38;5;241m.\u001B[39mcost_analysis()\n",
      "    \u001B[1;31m[... skipping hidden 16 frame]\u001B[0m\n",
      "File \u001B[1;32mS:\\FBPINNs\\fbpinns\\trainers.py:292\u001B[0m, in \u001B[0;36mFBPINN_update\u001B[1;34m(optimiser_fn, active_opt_states, active_params, fixed_params, static_params_dynamic, static_params_static, takess, constraints, model_fns, jmapss, loss_fn)\u001B[0m\n\u001B[0;32m    290\u001B[0m static_params \u001B[38;5;241m=\u001B[39m combine(static_params_dynamic, static_params_static)\n\u001B[0;32m    291\u001B[0m \u001B[38;5;66;03m# update step\u001B[39;00m\n\u001B[1;32m--> 292\u001B[0m lossval, grads \u001B[38;5;241m=\u001B[39m \u001B[43mvalue_and_grad\u001B[49m\u001B[43m(\u001B[49m\u001B[43mFBPINN_loss\u001B[49m\u001B[43m,\u001B[49m\u001B[43m \u001B[49m\u001B[43margnums\u001B[49m\u001B[38;5;241;43m=\u001B[39;49m\u001B[38;5;241;43m0\u001B[39;49m\u001B[43m)\u001B[49m\u001B[43m(\u001B[49m\n\u001B[0;32m    293\u001B[0m \u001B[43m    \u001B[49m\u001B[43mactive_params\u001B[49m\u001B[43m,\u001B[49m\u001B[43m \u001B[49m\u001B[43mfixed_params\u001B[49m\u001B[43m,\u001B[49m\u001B[43m \u001B[49m\u001B[43mstatic_params\u001B[49m\u001B[43m,\u001B[49m\u001B[43m \u001B[49m\u001B[43mtakess\u001B[49m\u001B[43m,\u001B[49m\u001B[43m \u001B[49m\u001B[43mconstraints\u001B[49m\u001B[43m,\u001B[49m\u001B[43m \u001B[49m\u001B[43mmodel_fns\u001B[49m\u001B[43m,\u001B[49m\u001B[43m \u001B[49m\u001B[43mjmapss\u001B[49m\u001B[43m,\u001B[49m\u001B[43m \u001B[49m\u001B[43mloss_fn\u001B[49m\u001B[43m)\u001B[49m\n\u001B[0;32m    294\u001B[0m updates, active_opt_states \u001B[38;5;241m=\u001B[39m optimiser_fn(grads, active_opt_states, active_params)\n\u001B[0;32m    295\u001B[0m active_params \u001B[38;5;241m=\u001B[39m optax\u001B[38;5;241m.\u001B[39mapply_updates(active_params, updates)\n",
      "    \u001B[1;31m[... skipping hidden 15 frame]\u001B[0m\n",
      "File \u001B[1;32mS:\\FBPINNs\\fbpinns\\trainers.py:265\u001B[0m, in \u001B[0;36mFBPINN_loss\u001B[1;34m(active_params, fixed_params, static_params, takess, constraints, model_fns, jmapss, loss_fn)\u001B[0m\n\u001B[0;32m    263\u001B[0m         logger\u001B[38;5;241m.\u001B[39mdebug(str_tensor(c_))\n\u001B[0;32m    264\u001B[0m     x_batch \u001B[38;5;241m=\u001B[39m constraint[\u001B[38;5;241m0\u001B[39m]\n\u001B[1;32m--> 265\u001B[0m     ujs \u001B[38;5;241m=\u001B[39m \u001B[43mFBPINN_forward\u001B[49m\u001B[43m(\u001B[49m\u001B[43mall_params\u001B[49m\u001B[43m,\u001B[49m\u001B[43m \u001B[49m\u001B[43mx_batch\u001B[49m\u001B[43m,\u001B[49m\u001B[43m \u001B[49m\u001B[43mtakes\u001B[49m\u001B[43m,\u001B[49m\u001B[43m \u001B[49m\u001B[43mmodel_fns\u001B[49m\u001B[43m,\u001B[49m\u001B[43m \u001B[49m\u001B[43mjmaps\u001B[49m\u001B[43m)\u001B[49m\n\u001B[0;32m    266\u001B[0m     constraints_\u001B[38;5;241m.\u001B[39mappend(constraint\u001B[38;5;241m+\u001B[39mujs)\n\u001B[0;32m    267\u001B[0m \u001B[38;5;28;01mreturn\u001B[39;00m loss_fn(all_params, constraints_)\n",
      "File \u001B[1;32mS:\\FBPINNs\\fbpinns\\trainers.py:203\u001B[0m, in \u001B[0;36mFBPINN_forward\u001B[1;34m(all_params, x_batch, takes, model_fns, jmaps)\u001B[0m\n\u001B[0;32m    201\u001B[0m \u001B[38;5;28;01mdef\u001B[39;00m\u001B[38;5;250m \u001B[39m\u001B[38;5;21mu\u001B[39m(x_batch):\n\u001B[0;32m    202\u001B[0m     \u001B[38;5;28;01mreturn\u001B[39;00m FBPINN_model(all_params, x_batch, takes, model_fns)[\u001B[38;5;241m0\u001B[39m], ()\n\u001B[1;32m--> 203\u001B[0m \u001B[38;5;28;01mreturn\u001B[39;00m \u001B[43m_get_ujs\u001B[49m\u001B[43m(\u001B[49m\u001B[43mx_batch\u001B[49m\u001B[43m,\u001B[49m\u001B[43m \u001B[49m\u001B[43mjmaps\u001B[49m\u001B[43m,\u001B[49m\u001B[43m \u001B[49m\u001B[43mu\u001B[49m\u001B[43m)\u001B[49m\n",
      "File \u001B[1;32mS:\\FBPINNs\\fbpinns\\trainers.py:226\u001B[0m, in \u001B[0;36m_get_ujs\u001B[1;34m(x_batch, jmaps, u)\u001B[0m\n\u001B[0;32m    224\u001B[0m jacs \u001B[38;5;241m=\u001B[39m []\n\u001B[0;32m    225\u001B[0m \u001B[38;5;28;01mfor\u001B[39;00m ie,_ \u001B[38;5;129;01min\u001B[39;00m leaves:\n\u001B[1;32m--> 226\u001B[0m     fin, jac \u001B[38;5;241m=\u001B[39m \u001B[43mfs\u001B[49m\u001B[43m[\u001B[49m\u001B[43mie\u001B[49m\u001B[43m]\u001B[49m\u001B[43m(\u001B[49m\u001B[43mx_batch\u001B[49m\u001B[43m)\u001B[49m\n\u001B[0;32m    227\u001B[0m     jacs\u001B[38;5;241m.\u001B[39mappend(jac\u001B[38;5;241m+\u001B[39m(fin,))\n\u001B[0;32m    229\u001B[0m \u001B[38;5;66;03m# index required jacobians\u001B[39;00m\n",
      "File \u001B[1;32mS:\\FBPINNs\\fbpinns\\trainers.py:244\u001B[0m, in \u001B[0;36mjacfwd.<locals>.jacfun\u001B[1;34m(x)\u001B[0m\n\u001B[0;32m    243\u001B[0m \u001B[38;5;28;01mdef\u001B[39;00m\u001B[38;5;250m \u001B[39m\u001B[38;5;21mjacfun\u001B[39m(x):\n\u001B[1;32m--> 244\u001B[0m     y, j, aux \u001B[38;5;241m=\u001B[39m \u001B[43mjvp\u001B[49m\u001B[43m(\u001B[49m\u001B[43mf\u001B[49m\u001B[43m,\u001B[49m\u001B[43m \u001B[49m\u001B[43m(\u001B[49m\u001B[43mx\u001B[49m\u001B[43m,\u001B[49m\u001B[43m)\u001B[49m\u001B[43m,\u001B[49m\u001B[43m \u001B[49m\u001B[43m(\u001B[49m\u001B[43mv\u001B[49m\u001B[43m,\u001B[49m\u001B[43m)\u001B[49m\u001B[43m,\u001B[49m\u001B[43m \u001B[49m\u001B[43mhas_aux\u001B[49m\u001B[38;5;241;43m=\u001B[39;49m\u001B[38;5;28;43;01mTrue\u001B[39;49;00m\u001B[43m)\u001B[49m\n\u001B[0;32m    245\u001B[0m     aux \u001B[38;5;241m=\u001B[39m aux \u001B[38;5;241m+\u001B[39m (y,)\n\u001B[0;32m    246\u001B[0m     \u001B[38;5;28;01mreturn\u001B[39;00m j, aux\n",
      "    \u001B[1;31m[... skipping hidden 6 frame]\u001B[0m\n",
      "File \u001B[1;32mS:\\FBPINNs\\fbpinns\\trainers.py:244\u001B[0m, in \u001B[0;36mjacfwd.<locals>.jacfun\u001B[1;34m(x)\u001B[0m\n\u001B[0;32m    243\u001B[0m \u001B[38;5;28;01mdef\u001B[39;00m\u001B[38;5;250m \u001B[39m\u001B[38;5;21mjacfun\u001B[39m(x):\n\u001B[1;32m--> 244\u001B[0m     y, j, aux \u001B[38;5;241m=\u001B[39m \u001B[43mjvp\u001B[49m\u001B[43m(\u001B[49m\u001B[43mf\u001B[49m\u001B[43m,\u001B[49m\u001B[43m \u001B[49m\u001B[43m(\u001B[49m\u001B[43mx\u001B[49m\u001B[43m,\u001B[49m\u001B[43m)\u001B[49m\u001B[43m,\u001B[49m\u001B[43m \u001B[49m\u001B[43m(\u001B[49m\u001B[43mv\u001B[49m\u001B[43m,\u001B[49m\u001B[43m)\u001B[49m\u001B[43m,\u001B[49m\u001B[43m \u001B[49m\u001B[43mhas_aux\u001B[49m\u001B[38;5;241;43m=\u001B[39;49m\u001B[38;5;28;43;01mTrue\u001B[39;49;00m\u001B[43m)\u001B[49m\n\u001B[0;32m    245\u001B[0m     aux \u001B[38;5;241m=\u001B[39m aux \u001B[38;5;241m+\u001B[39m (y,)\n\u001B[0;32m    246\u001B[0m     \u001B[38;5;28;01mreturn\u001B[39;00m j, aux\n",
      "    \u001B[1;31m[... skipping hidden 6 frame]\u001B[0m\n",
      "File \u001B[1;32mS:\\FBPINNs\\fbpinns\\trainers.py:202\u001B[0m, in \u001B[0;36mFBPINN_forward.<locals>.u\u001B[1;34m(x_batch)\u001B[0m\n\u001B[0;32m    201\u001B[0m \u001B[38;5;28;01mdef\u001B[39;00m\u001B[38;5;250m \u001B[39m\u001B[38;5;21mu\u001B[39m(x_batch):\n\u001B[1;32m--> 202\u001B[0m     \u001B[38;5;28;01mreturn\u001B[39;00m \u001B[43mFBPINN_model\u001B[49m\u001B[43m(\u001B[49m\u001B[43mall_params\u001B[49m\u001B[43m,\u001B[49m\u001B[43m \u001B[49m\u001B[43mx_batch\u001B[49m\u001B[43m,\u001B[49m\u001B[43m \u001B[49m\u001B[43mtakes\u001B[49m\u001B[43m,\u001B[49m\u001B[43m \u001B[49m\u001B[43mmodel_fns\u001B[49m\u001B[43m)\u001B[49m[\u001B[38;5;241m0\u001B[39m], ()\n",
      "File \u001B[1;32mS:\\FBPINNs\\fbpinns\\trainers.py:163\u001B[0m, in \u001B[0;36mFBPINN_model\u001B[1;34m(all_params, x_batch, takes, model_fns, verbose)\u001B[0m\n\u001B[0;32m    160\u001B[0m logger\u001B[38;5;241m.\u001B[39mdebug(str_tensor(us))\n\u001B[0;32m    162\u001B[0m \u001B[38;5;66;03m# apply POU and sum\u001B[39;00m\n\u001B[1;32m--> 163\u001B[0m u \u001B[38;5;241m=\u001B[39m \u001B[43mjnp\u001B[49m\u001B[38;5;241;43m.\u001B[39;49m\u001B[43mconcatenate\u001B[49m\u001B[43m(\u001B[49m\u001B[43m[\u001B[49m\u001B[43mus\u001B[49m\u001B[43m,\u001B[49m\u001B[43m \u001B[49m\u001B[43mws\u001B[49m\u001B[43m]\u001B[49m\u001B[43m,\u001B[49m\u001B[43m \u001B[49m\u001B[43maxis\u001B[49m\u001B[38;5;241;43m=\u001B[39;49m\u001B[38;5;241;43m1\u001B[39;49m\u001B[43m)\u001B[49m\u001B[38;5;66;03m# (s, ud+1)\u001B[39;00m\n\u001B[0;32m    164\u001B[0m u \u001B[38;5;241m=\u001B[39m jax\u001B[38;5;241m.\u001B[39mops\u001B[38;5;241m.\u001B[39msegment_sum(u, p_take, indices_are_sorted\u001B[38;5;241m=\u001B[39m\u001B[38;5;28;01mFalse\u001B[39;00m, num_segments\u001B[38;5;241m=\u001B[39m\u001B[38;5;28mlen\u001B[39m(np_take))\u001B[38;5;66;03m# (_, ud+1)\u001B[39;00m\n\u001B[0;32m    165\u001B[0m wp \u001B[38;5;241m=\u001B[39m u[:,\u001B[38;5;241m-\u001B[39m\u001B[38;5;241m1\u001B[39m:]\n",
      "File \u001B[1;32mS:\\FBPINNs\\venv\\Lib\\site-packages\\jax\\_src\\numpy\\lax_numpy.py:4788\u001B[0m, in \u001B[0;36mconcatenate\u001B[1;34m(arrays, axis, dtype)\u001B[0m\n\u001B[0;32m   4786\u001B[0m k \u001B[38;5;241m=\u001B[39m \u001B[38;5;241m16\u001B[39m\n\u001B[0;32m   4787\u001B[0m \u001B[38;5;28;01mwhile\u001B[39;00m \u001B[38;5;28mlen\u001B[39m(arrays_out) \u001B[38;5;241m>\u001B[39m \u001B[38;5;241m1\u001B[39m:\n\u001B[1;32m-> 4788\u001B[0m   arrays_out \u001B[38;5;241m=\u001B[39m [\u001B[43mlax\u001B[49m\u001B[38;5;241;43m.\u001B[39;49m\u001B[43mconcatenate\u001B[49m\u001B[43m(\u001B[49m\u001B[43marrays_out\u001B[49m\u001B[43m[\u001B[49m\u001B[43mi\u001B[49m\u001B[43m:\u001B[49m\u001B[43mi\u001B[49m\u001B[38;5;241;43m+\u001B[39;49m\u001B[43mk\u001B[49m\u001B[43m]\u001B[49m\u001B[43m,\u001B[49m\u001B[43m \u001B[49m\u001B[43maxis\u001B[49m\u001B[43m)\u001B[49m\n\u001B[0;32m   4789\u001B[0m                 \u001B[38;5;28;01mfor\u001B[39;00m i \u001B[38;5;129;01min\u001B[39;00m \u001B[38;5;28mrange\u001B[39m(\u001B[38;5;241m0\u001B[39m, \u001B[38;5;28mlen\u001B[39m(arrays_out), k)]\n\u001B[0;32m   4790\u001B[0m \u001B[38;5;28;01mreturn\u001B[39;00m arrays_out[\u001B[38;5;241m0\u001B[39m]\n",
      "    \u001B[1;31m[... skipping hidden 22 frame]\u001B[0m\n",
      "File \u001B[1;32mS:\\FBPINNs\\venv\\Lib\\site-packages\\jax\\_src\\lax\\lax.py:4618\u001B[0m, in \u001B[0;36m_concatenate_shape_rule\u001B[1;34m(*operands, **kwargs)\u001B[0m\n\u001B[0;32m   4616\u001B[0m \u001B[38;5;28;01mif\u001B[39;00m \u001B[38;5;28mlen\u001B[39m({operand\u001B[38;5;241m.\u001B[39mndim \u001B[38;5;28;01mfor\u001B[39;00m operand \u001B[38;5;129;01min\u001B[39;00m operands}) \u001B[38;5;241m!=\u001B[39m \u001B[38;5;241m1\u001B[39m:\n\u001B[0;32m   4617\u001B[0m   msg \u001B[38;5;241m=\u001B[39m \u001B[38;5;124m\"\u001B[39m\u001B[38;5;124mCannot concatenate arrays with different numbers of dimensions: got \u001B[39m\u001B[38;5;132;01m{}\u001B[39;00m\u001B[38;5;124m.\u001B[39m\u001B[38;5;124m\"\u001B[39m\n\u001B[1;32m-> 4618\u001B[0m   \u001B[38;5;28;01mraise\u001B[39;00m \u001B[38;5;167;01mTypeError\u001B[39;00m(msg\u001B[38;5;241m.\u001B[39mformat(\u001B[38;5;124m\"\u001B[39m\u001B[38;5;124m, \u001B[39m\u001B[38;5;124m\"\u001B[39m\u001B[38;5;241m.\u001B[39mjoin(\u001B[38;5;28mstr\u001B[39m(o\u001B[38;5;241m.\u001B[39mshape) \u001B[38;5;28;01mfor\u001B[39;00m o \u001B[38;5;129;01min\u001B[39;00m operands)))\n\u001B[0;32m   4619\u001B[0m \u001B[38;5;28;01mif\u001B[39;00m \u001B[38;5;129;01mnot\u001B[39;00m \u001B[38;5;241m0\u001B[39m \u001B[38;5;241m<\u001B[39m\u001B[38;5;241m=\u001B[39m dimension \u001B[38;5;241m<\u001B[39m operands[\u001B[38;5;241m0\u001B[39m]\u001B[38;5;241m.\u001B[39mndim:\n\u001B[0;32m   4620\u001B[0m   msg \u001B[38;5;241m=\u001B[39m \u001B[38;5;124m\"\u001B[39m\u001B[38;5;124mconcatenate dimension out of bounds: dimension \u001B[39m\u001B[38;5;132;01m{}\u001B[39;00m\u001B[38;5;124m for shapes \u001B[39m\u001B[38;5;132;01m{}\u001B[39;00m\u001B[38;5;124m.\u001B[39m\u001B[38;5;124m\"\u001B[39m\n",
      "\u001B[1;31mTypeError\u001B[0m: Cannot concatenate arrays with different numbers of dimensions: got (418, 1, 1), (418, 1)."
     ]
    }
   ],
   "execution_count": 13
  },
  {
   "metadata": {},
   "cell_type": "code",
   "outputs": [],
   "execution_count": null,
   "source": "",
   "id": "39452dbf4d186e3"
  }
 ],
 "metadata": {
  "kernelspec": {
   "display_name": "Python 3",
   "language": "python",
   "name": "python3"
  },
  "language_info": {
   "codemirror_mode": {
    "name": "ipython",
    "version": 2
   },
   "file_extension": ".py",
   "mimetype": "text/x-python",
   "name": "python",
   "nbconvert_exporter": "python",
   "pygments_lexer": "ipython2",
   "version": "2.7.6"
  }
 },
 "nbformat": 4,
 "nbformat_minor": 5
}
