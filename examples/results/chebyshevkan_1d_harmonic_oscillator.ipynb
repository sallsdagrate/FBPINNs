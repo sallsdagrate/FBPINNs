{
 "cells": [
  {
   "cell_type": "code",
   "id": "initial_id",
   "metadata": {
    "collapsed": true,
    "ExecuteTime": {
     "end_time": "2025-03-02T17:20:45.439802Z",
     "start_time": "2025-03-02T17:20:44.893010Z"
    }
   },
   "source": [
    "import numpy as np\n",
    "from fbpinns.domains import RectangularDomainND\n",
    "\n",
    "domain = RectangularDomainND\n",
    "domain_init_kwargs = dict(\n",
    "    xmin=np.array([0.,]),\n",
    "    xmax=np.array([1.,]),# solve the problem over the domain [0, 1]\n",
    ")"
   ],
   "outputs": [],
   "execution_count": 1
  },
  {
   "metadata": {
    "ExecuteTime": {
     "end_time": "2025-03-02T17:20:45.738398Z",
     "start_time": "2025-03-02T17:20:45.478389Z"
    }
   },
   "cell_type": "code",
   "source": [
    "import jax.numpy as jnp\n",
    "from fbpinns.problems import Problem"
   ],
   "id": "62aa9d731c293619",
   "outputs": [],
   "execution_count": 2
  },
  {
   "metadata": {
    "ExecuteTime": {
     "end_time": "2025-03-02T17:20:45.754980Z",
     "start_time": "2025-03-02T17:20:45.748851Z"
    }
   },
   "cell_type": "code",
   "source": [
    "class HarmonicOscillator1D(Problem):\n",
    "    \"\"\"Solves the time-dependent damped harmonic oscillator\n",
    "          d^2 u      du\n",
    "        m ----- + mu -- + ku = 0\n",
    "          dt^2       dt\n",
    "\n",
    "        Boundary conditions:\n",
    "        u (0) = 1\n",
    "        u'(0) = 0\n",
    "    \"\"\"\n",
    "\n",
    "    @staticmethod\n",
    "    def init_params(d=2, w0=20):\n",
    "\n",
    "        mu, k = 2*d, w0**2\n",
    "\n",
    "        static_params = {\n",
    "            \"dims\":(1,1),\n",
    "            \"d\":d,\n",
    "            \"w0\":w0,\n",
    "            \"mu\":mu,\n",
    "            \"k\":k,\n",
    "            }\n",
    "\n",
    "        return static_params, {}\n",
    "\n",
    "    @staticmethod\n",
    "    def sample_constraints(all_params, domain, key, sampler, batch_shapes):\n",
    "\n",
    "        # physics loss\n",
    "        x_batch_phys = domain.sample_interior(all_params, key, sampler, batch_shapes[0])\n",
    "        required_ujs_phys = (\n",
    "            (0,()),\n",
    "            (0,(0,)),\n",
    "            (0,(0,0))\n",
    "        )\n",
    "\n",
    "        # boundary loss\n",
    "        x_batch_boundary = jnp.array([0.]).reshape((1,1))\n",
    "        u_boundary = jnp.array([1.]).reshape((1,1))\n",
    "        ut_boundary = jnp.array([0.]).reshape((1,1))\n",
    "        required_ujs_boundary = (\n",
    "            (0,()),\n",
    "            (0,(0,)),\n",
    "        )\n",
    "\n",
    "        return [[x_batch_phys, required_ujs_phys], [x_batch_boundary, u_boundary, ut_boundary, required_ujs_boundary]]\n",
    "\n",
    "    @staticmethod\n",
    "    def loss_fn(all_params, constraints):\n",
    "\n",
    "        mu, k = all_params[\"static\"][\"problem\"][\"mu\"], all_params[\"static\"][\"problem\"][\"k\"]\n",
    "\n",
    "        # physics loss\n",
    "        _, u, ut, utt = constraints[0]\n",
    "        phys = jnp.mean((utt + mu*ut + k*u)**2)\n",
    "\n",
    "        # boundary loss\n",
    "        _, uc, utc, u, ut = constraints[1]\n",
    "        boundary = 1e6*jnp.mean((u-uc)**2) + 1e2*jnp.mean((ut-utc)**2)\n",
    "\n",
    "        return phys + boundary\n",
    "\n",
    "    @staticmethod\n",
    "    def exact_solution(all_params, x_batch, batch_shape=None):\n",
    "\n",
    "        d, w0 = all_params[\"static\"][\"problem\"][\"d\"], all_params[\"static\"][\"problem\"][\"w0\"]\n",
    "\n",
    "        w = jnp.sqrt(w0**2-d**2)\n",
    "        phi = jnp.arctan(-d/w)\n",
    "        A = 1/(2*jnp.cos(phi))\n",
    "        cos = jnp.cos(phi + w * x_batch)\n",
    "        exp = jnp.exp(-d * x_batch)\n",
    "        u = exp * 2 * A * cos\n",
    "\n",
    "        return u\n",
    "\n",
    "problem = HarmonicOscillator1D\n",
    "problem_init_kwargs=dict(\n",
    "    d=2, w0=80,# define the ODE parameters\n",
    ")"
   ],
   "id": "d29af6db12fa986b",
   "outputs": [],
   "execution_count": 3
  },
  {
   "metadata": {
    "ExecuteTime": {
     "end_time": "2025-03-02T17:20:45.766514Z",
     "start_time": "2025-03-02T17:20:45.758627Z"
    }
   },
   "cell_type": "code",
   "source": [
    "from fbpinns.decompositions import RectangularDecompositionND\n",
    "\n",
    "decomposition = RectangularDecompositionND# use a rectangular domain decomposition\n",
    "decomposition_init_kwargs=dict(\n",
    "    subdomain_xs=[np.linspace(0,1,15)],# use 15 equally spaced subdomains\n",
    "    subdomain_ws=[0.15*np.ones((15,))],# with widths of 0.15\n",
    "    unnorm=(0.,1.),# define unnormalisation of the subdomain networks\n",
    ")"
   ],
   "id": "ac166a7a89ab8bb5",
   "outputs": [],
   "execution_count": 4
  },
  {
   "metadata": {
    "ExecuteTime": {
     "end_time": "2025-03-02T17:20:45.779467Z",
     "start_time": "2025-03-02T17:20:45.776741Z"
    }
   },
   "cell_type": "code",
   "source": [
    "from fbpinns.networks import FCN, AdaptiveFCN, SIREN, AdaptiveSIREN, ChebyshevKAN\n",
    "\n",
    "network = ChebyshevKAN# place a fully-connected network in each subdomain\n",
    "network_init_kwargs=dict(\n",
    "    input_dim=1,\n",
    "    output_dim=1,\n",
    "    degree=6\n",
    ")"
   ],
   "id": "18ec4710810c748d",
   "outputs": [],
   "execution_count": 5
  },
  {
   "metadata": {
    "ExecuteTime": {
     "end_time": "2025-03-02T17:20:45.857668Z",
     "start_time": "2025-03-02T17:20:45.790027Z"
    }
   },
   "cell_type": "code",
   "source": [
    "from fbpinns.constants import Constants\n",
    "\n",
    "c = Constants(\n",
    "    domain=domain,\n",
    "    domain_init_kwargs=domain_init_kwargs,\n",
    "    problem=problem,\n",
    "    problem_init_kwargs=problem_init_kwargs,\n",
    "    decomposition=decomposition,\n",
    "    decomposition_init_kwargs=decomposition_init_kwargs,\n",
    "    network=network,\n",
    "    network_init_kwargs=network_init_kwargs,\n",
    "    ns=((200,),),# use 200 collocation points for training\n",
    "    n_test=(500,),# use 500 points for testing\n",
    "    n_steps=20000,# number of training steps\n",
    "    clear_output=True,\n",
    ")\n",
    "\n",
    "print(c)"
   ],
   "id": "5425680d699bdc4c",
   "outputs": [
    {
     "name": "stdout",
     "output_type": "stream",
     "text": [
      "<fbpinns.constants.Constants object at 0x105ed4490>\n",
      "run: test\n",
      "domain: <class 'fbpinns.domains.RectangularDomainND'>\n",
      "domain_init_kwargs: {'xmin': array([0.]), 'xmax': array([1.])}\n",
      "problem: <class '__main__.HarmonicOscillator1D'>\n",
      "problem_init_kwargs: {'d': 2, 'w0': 80}\n",
      "decomposition: <class 'fbpinns.decompositions.RectangularDecompositionND'>\n",
      "decomposition_init_kwargs: {'subdomain_xs': [array([0.        , 0.07142857, 0.14285714, 0.21428571, 0.28571429,\n",
      "       0.35714286, 0.42857143, 0.5       , 0.57142857, 0.64285714,\n",
      "       0.71428571, 0.78571429, 0.85714286, 0.92857143, 1.        ])], 'subdomain_ws': [array([0.15, 0.15, 0.15, 0.15, 0.15, 0.15, 0.15, 0.15, 0.15, 0.15, 0.15,\n",
      "       0.15, 0.15, 0.15, 0.15])], 'unnorm': (0.0, 1.0)}\n",
      "network: <class 'fbpinns.networks.ChebyshevKAN'>\n",
      "network_init_kwargs: {'input_dim': 1, 'output_dim': 1, 'degree': 6}\n",
      "n_steps: 20000\n",
      "scheduler: <class 'fbpinns.schedulers.AllActiveSchedulerND'>\n",
      "scheduler_kwargs: {}\n",
      "ns: ((200,),)\n",
      "n_test: (500,)\n",
      "sampler: grid\n",
      "optimiser: <function adam at 0x145073560>\n",
      "optimiser_kwargs: {'learning_rate': 0.001}\n",
      "seed: 0\n",
      "summary_freq: 1000\n",
      "test_freq: 1000\n",
      "model_save_freq: 10000\n",
      "show_figures: True\n",
      "save_figures: False\n",
      "clear_output: True\n",
      "hostname: sumiths-macbook-pro.local\n",
      "\n"
     ]
    }
   ],
   "execution_count": 6
  },
  {
   "metadata": {},
   "cell_type": "code",
   "source": [
    "from fbpinns.trainers import FBPINNTrainer\n",
    "\n",
    "run = FBPINNTrainer(c)\n",
    "all_params = run.train()"
   ],
   "id": "d34736dd345f5d4e",
   "execution_count": 7,
   "outputs": [
    {
     "name": "stdout",
     "output_type": "stream",
     "text": [
      "[INFO] 2025-03-02 17:20:59 - [i: 20000/20000] Training complete\n"
     ]
    }
   ]
  }
 ],
 "metadata": {
  "kernelspec": {
   "display_name": "Python 3",
   "language": "python",
   "name": "python3"
  },
  "language_info": {
   "codemirror_mode": {
    "name": "ipython",
    "version": 2
   },
   "file_extension": ".py",
   "mimetype": "text/x-python",
   "name": "python",
   "nbconvert_exporter": "python",
   "pygments_lexer": "ipython2",
   "version": "2.7.6"
  }
 },
 "nbformat": 4,
 "nbformat_minor": 5
}
