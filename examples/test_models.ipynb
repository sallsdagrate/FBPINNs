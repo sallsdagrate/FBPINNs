{
 "cells": [
  {
   "cell_type": "code",
   "id": "initial_id",
   "metadata": {
    "collapsed": true,
    "ExecuteTime": {
     "end_time": "2025-03-02T16:13:04.541833Z",
     "start_time": "2025-03-02T16:13:04.246213Z"
    }
   },
   "source": [
    "from fbpinns.networks import FCN, ChebyshevKAN\n",
    "from jax import random"
   ],
   "outputs": [],
   "execution_count": 1
  },
  {
   "metadata": {
    "ExecuteTime": {
     "end_time": "2025-03-02T16:13:04.548612Z",
     "start_time": "2025-03-02T16:13:04.545987Z"
    }
   },
   "cell_type": "code",
   "source": [
    "kan = ChebyshevKAN\n",
    "network_init_kwargs=dict(\n",
    "    input_dim=1,\n",
    "    output_dim=1,\n",
    "    degree=6,\n",
    ")"
   ],
   "id": "ea16c492f977e75b",
   "outputs": [],
   "execution_count": 2
  },
  {
   "metadata": {
    "ExecuteTime": {
     "end_time": "2025-03-02T16:13:04.672003Z",
     "start_time": "2025-03-02T16:13:04.591189Z"
    }
   },
   "cell_type": "code",
   "source": "key = random.PRNGKey(0)",
   "id": "3906959785bf472d",
   "outputs": [],
   "execution_count": 3
  },
  {
   "metadata": {
    "ExecuteTime": {
     "end_time": "2025-03-02T16:13:04.739020Z",
     "start_time": "2025-03-02T16:13:04.676736Z"
    }
   },
   "cell_type": "code",
   "source": "key, subkey = random.split(key)",
   "id": "67f4d4e1030e364",
   "outputs": [],
   "execution_count": 4
  },
  {
   "metadata": {
    "ExecuteTime": {
     "end_time": "2025-03-02T16:13:04.751180Z",
     "start_time": "2025-03-02T16:13:04.747086Z"
    }
   },
   "cell_type": "code",
   "source": "key, subkey",
   "id": "47aff976a3a47d9a",
   "outputs": [
    {
     "data": {
      "text/plain": [
       "(Array([1797259609, 2579123966], dtype=uint32),\n",
       " Array([ 928981903, 3453687069], dtype=uint32))"
      ]
     },
     "execution_count": 5,
     "metadata": {},
     "output_type": "execute_result"
    }
   ],
   "execution_count": 5
  },
  {
   "metadata": {
    "ExecuteTime": {
     "end_time": "2025-03-02T16:13:04.956723Z",
     "start_time": "2025-03-02T16:13:04.818091Z"
    }
   },
   "cell_type": "code",
   "source": "_, p = kan.init_params(key=subkey, **network_init_kwargs)",
   "id": "4fcdad78ea3e35f9",
   "outputs": [],
   "execution_count": 6
  },
  {
   "metadata": {
    "ExecuteTime": {
     "end_time": "2025-03-02T16:13:04.963918Z",
     "start_time": "2025-03-02T16:13:04.961567Z"
    }
   },
   "cell_type": "code",
   "source": "p",
   "id": "7318fa89eeea3e9b",
   "outputs": [
    {
     "data": {
      "text/plain": [
       "{'coeffs': Array([[[-0.34892228, -0.2908115 ,  0.02936346, -0.05050717,\n",
       "          -0.10885344, -0.16836455, -0.16403137]]], dtype=float32)}"
      ]
     },
     "execution_count": 7,
     "metadata": {},
     "output_type": "execute_result"
    }
   ],
   "execution_count": 7
  },
  {
   "metadata": {
    "ExecuteTime": {
     "end_time": "2025-03-02T17:19:25.646484Z",
     "start_time": "2025-03-02T17:19:25.630947Z"
    }
   },
   "cell_type": "code",
   "source": "kan.forward(p['coeffs'], random.uniform(subkey, (1,)))",
   "id": "d5235f6a1970c629",
   "outputs": [
    {
     "name": "stdout",
     "output_type": "stream",
     "text": [
      "input: (1,)\n",
      "output: (1,) 1\n"
     ]
    },
    {
     "data": {
      "text/plain": [
       "Array([-0.33337623], dtype=float32)"
      ]
     },
     "execution_count": 10,
     "metadata": {},
     "output_type": "execute_result"
    }
   ],
   "execution_count": 10
  },
  {
   "metadata": {
    "ExecuteTime": {
     "end_time": "2025-03-02T16:13:05.334930Z",
     "start_time": "2025-03-02T16:13:05.333494Z"
    }
   },
   "cell_type": "code",
   "source": "",
   "id": "6a8da2c30000da04",
   "outputs": [],
   "execution_count": null
  }
 ],
 "metadata": {
  "kernelspec": {
   "display_name": "Python 3",
   "language": "python",
   "name": "python3"
  },
  "language_info": {
   "codemirror_mode": {
    "name": "ipython",
    "version": 2
   },
   "file_extension": ".py",
   "mimetype": "text/x-python",
   "name": "python",
   "nbconvert_exporter": "python",
   "pygments_lexer": "ipython2",
   "version": "2.7.6"
  }
 },
 "nbformat": 4,
 "nbformat_minor": 5
}
