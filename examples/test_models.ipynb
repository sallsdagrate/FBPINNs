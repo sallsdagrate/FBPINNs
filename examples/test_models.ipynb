{
 "cells": [
  {
   "cell_type": "code",
   "id": "initial_id",
   "metadata": {
    "collapsed": true,
    "ExecuteTime": {
     "end_time": "2025-02-18T01:01:10.638352Z",
     "start_time": "2025-02-18T01:01:08.850436Z"
    }
   },
   "source": "from fbpinns.networks import FCN",
   "outputs": [],
   "execution_count": 1
  },
  {
   "metadata": {
    "ExecuteTime": {
     "end_time": "2025-02-18T01:01:21.505098Z",
     "start_time": "2025-02-18T01:01:21.501961Z"
    }
   },
   "cell_type": "code",
   "source": [
    "network = FCN\n",
    "network_init_kwargs=dict(\n",
    "    layer_sizes=[1,32,1],\n",
    ")"
   ],
   "id": "5c726c173633d961",
   "outputs": [],
   "execution_count": 2
  },
  {
   "metadata": {
    "ExecuteTime": {
     "end_time": "2025-02-18T01:02:55.625488Z",
     "start_time": "2025-02-18T01:02:55.621489Z"
    }
   },
   "cell_type": "code",
   "source": "FCN",
   "id": "3906959785bf472d",
   "outputs": [
    {
     "data": {
      "text/plain": [
       "fbpinns.networks.FCN"
      ]
     },
     "execution_count": 5,
     "metadata": {},
     "output_type": "execute_result"
    }
   ],
   "execution_count": 5
  },
  {
   "metadata": {},
   "cell_type": "code",
   "outputs": [],
   "execution_count": null,
   "source": "",
   "id": "67f4d4e1030e364"
  }
 ],
 "metadata": {
  "kernelspec": {
   "display_name": "Python 3",
   "language": "python",
   "name": "python3"
  },
  "language_info": {
   "codemirror_mode": {
    "name": "ipython",
    "version": 2
   },
   "file_extension": ".py",
   "mimetype": "text/x-python",
   "name": "python",
   "nbconvert_exporter": "python",
   "pygments_lexer": "ipython2",
   "version": "2.7.6"
  }
 },
 "nbformat": 4,
 "nbformat_minor": 5
}
