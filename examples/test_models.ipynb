{
 "cells": [
  {
   "cell_type": "code",
   "id": "initial_id",
   "metadata": {
    "collapsed": true,
    "ExecuteTime": {
     "end_time": "2025-03-02T01:38:33.248315Z",
     "start_time": "2025-03-02T01:38:31.886070Z"
    }
   },
   "source": [
    "from fbpinns.networks import FCN, ChebyshevKAN\n",
    "from jax import random"
   ],
   "outputs": [],
   "execution_count": 1
  },
  {
   "metadata": {
    "ExecuteTime": {
     "end_time": "2025-03-02T01:39:22.300060Z",
     "start_time": "2025-03-02T01:39:22.296107Z"
    }
   },
   "cell_type": "code",
   "source": [
    "kan = ChebyshevKAN\n",
    "network_init_kwargs=dict(\n",
    "    input_dim=1,\n",
    "    output_dim=1,\n",
    "    degree=6,\n",
    ")"
   ],
   "id": "ea16c492f977e75b",
   "outputs": [],
   "execution_count": 2
  },
  {
   "metadata": {
    "ExecuteTime": {
     "end_time": "2025-02-18T01:39:26.570764Z",
     "start_time": "2025-02-18T01:39:26.568748Z"
    }
   },
   "cell_type": "code",
   "source": [
    "network = FCN\n",
    "network_init_kwargs=dict(\n",
    "    layer_sizes=[1,32,1],\n",
    ")"
   ],
   "id": "5c726c173633d961",
   "outputs": [],
   "execution_count": 2
  },
  {
   "metadata": {
    "ExecuteTime": {
     "end_time": "2025-03-02T01:39:27.278732Z",
     "start_time": "2025-03-02T01:39:26.621848Z"
    }
   },
   "cell_type": "code",
   "source": "key = random.PRNGKey(0)",
   "id": "3906959785bf472d",
   "outputs": [],
   "execution_count": 3
  },
  {
   "metadata": {
    "ExecuteTime": {
     "end_time": "2025-03-02T01:39:29.237053Z",
     "start_time": "2025-03-02T01:39:29.136084Z"
    }
   },
   "cell_type": "code",
   "source": "key, subkey = random.split(key)",
   "id": "67f4d4e1030e364",
   "outputs": [],
   "execution_count": 4
  },
  {
   "metadata": {
    "ExecuteTime": {
     "end_time": "2025-03-02T01:39:30.801013Z",
     "start_time": "2025-03-02T01:39:30.793651Z"
    }
   },
   "cell_type": "code",
   "source": "key, subkey",
   "id": "47aff976a3a47d9a",
   "outputs": [
    {
     "data": {
      "text/plain": [
       "(Array([1797259609, 2579123966], dtype=uint32),\n",
       " Array([ 928981903, 3453687069], dtype=uint32))"
      ]
     },
     "execution_count": 5,
     "metadata": {},
     "output_type": "execute_result"
    }
   ],
   "execution_count": 5
  },
  {
   "metadata": {
    "ExecuteTime": {
     "end_time": "2025-03-02T01:39:45.151691Z",
     "start_time": "2025-03-02T01:39:45.029123Z"
    }
   },
   "cell_type": "code",
   "source": "_, p = kan.init_params(key=subkey, **network_init_kwargs)",
   "id": "4fcdad78ea3e35f9",
   "outputs": [],
   "execution_count": 7
  },
  {
   "metadata": {
    "ExecuteTime": {
     "end_time": "2025-03-02T01:39:54.356652Z",
     "start_time": "2025-03-02T01:39:54.345182Z"
    }
   },
   "cell_type": "code",
   "source": "p['layers'][1][0].shape",
   "id": "94b477723d32176a",
   "outputs": [
    {
     "ename": "KeyError",
     "evalue": "'layers'",
     "output_type": "error",
     "traceback": [
      "\u001B[1;31m---------------------------------------------------------------------------\u001B[0m",
      "\u001B[1;31mKeyError\u001B[0m                                  Traceback (most recent call last)",
      "Cell \u001B[1;32mIn[9], line 1\u001B[0m\n\u001B[1;32m----> 1\u001B[0m \u001B[43mp\u001B[49m\u001B[43m[\u001B[49m\u001B[38;5;124;43m'\u001B[39;49m\u001B[38;5;124;43mlayers\u001B[39;49m\u001B[38;5;124;43m'\u001B[39;49m\u001B[43m]\u001B[49m[\u001B[38;5;241m1\u001B[39m][\u001B[38;5;241m0\u001B[39m]\u001B[38;5;241m.\u001B[39mshape\n",
      "\u001B[1;31mKeyError\u001B[0m: 'layers'"
     ]
    }
   ],
   "execution_count": 9
  },
  {
   "metadata": {
    "ExecuteTime": {
     "end_time": "2025-03-02T01:39:56.975476Z",
     "start_time": "2025-03-02T01:39:56.970187Z"
    }
   },
   "cell_type": "code",
   "source": "p",
   "id": "7318fa89eeea3e9b",
   "outputs": [
    {
     "data": {
      "text/plain": [
       "{'coeffs': Array([[[-0.09769823, -0.08142722,  0.00822177, -0.01414201,\n",
       "          -0.03047896],\n",
       "         [-0.04714207, -0.04592878,  0.01188663, -0.05242144,\n",
       "           0.0852081 ],\n",
       "         [-0.00758289,  0.03856048, -0.052044  , -0.02994775,\n",
       "          -0.01491993]],\n",
       " \n",
       "        [[ 0.01771163, -0.04761198, -0.00277023, -0.03824235,\n",
       "          -0.07835055],\n",
       "         [-0.04423977, -0.01288021,  0.05321319,  0.03248947,\n",
       "          -0.04635295],\n",
       "         [-0.02172965,  0.03231322,  0.06618417, -0.01637239,\n",
       "           0.00215554]],\n",
       " \n",
       "        [[-0.02593553, -0.07070383, -0.00846121,  0.03689723,\n",
       "          -0.05195513],\n",
       "         [-0.0285951 , -0.09609751, -0.06708377, -0.01879343,\n",
       "          -0.06859837],\n",
       "         [-0.07954919, -0.06602889, -0.01097797, -0.02875881,\n",
       "           0.01572212]],\n",
       " \n",
       "        [[-0.03764285,  0.07666528,  0.02226803, -0.00316473,\n",
       "           0.03068319],\n",
       "         [ 0.03663842, -0.04528578,  0.02761554, -0.05494368,\n",
       "           0.00743963],\n",
       "         [-0.06416802, -0.01896844,  0.02000707, -0.02995506,\n",
       "           0.03872585]],\n",
       " \n",
       "        [[-0.01235016,  0.00076262,  0.042247  ,  0.03734231,\n",
       "           0.06817916],\n",
       "         [ 0.03058136,  0.05677562, -0.04514142,  0.02442212,\n",
       "           0.02586814],\n",
       "         [-0.0492922 ,  0.0508063 , -0.00016157, -0.00425281,\n",
       "           0.00071095]]], dtype=float32)}"
      ]
     },
     "execution_count": 10,
     "metadata": {},
     "output_type": "execute_result"
    }
   ],
   "execution_count": 10
  },
  {
   "metadata": {},
   "cell_type": "code",
   "outputs": [],
   "execution_count": null,
   "source": "",
   "id": "d5235f6a1970c629"
  }
 ],
 "metadata": {
  "kernelspec": {
   "display_name": "Python 3",
   "language": "python",
   "name": "python3"
  },
  "language_info": {
   "codemirror_mode": {
    "name": "ipython",
    "version": 2
   },
   "file_extension": ".py",
   "mimetype": "text/x-python",
   "name": "python",
   "nbconvert_exporter": "python",
   "pygments_lexer": "ipython2",
   "version": "2.7.6"
  }
 },
 "nbformat": 4,
 "nbformat_minor": 5
}
