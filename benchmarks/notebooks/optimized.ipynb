{
 "cells": [
  {
   "cell_type": "code",
   "execution_count": 3,
   "id": "93872ccc",
   "metadata": {},
   "outputs": [],
   "source": [
    "import os\n",
    "import numpy as np\n",
    "import matplotlib.pyplot as plt\n",
    "import os\n",
    "from benchmarks.runs.exploring_utils import RunAnalyser, adaptive_filter, non_adaptive_filter, model_filter\n",
    "import re\n",
    "import json"
   ]
  },
  {
   "cell_type": "code",
   "execution_count": 45,
   "id": "fd4a060e",
   "metadata": {},
   "outputs": [
    {
     "name": "stdout",
     "output_type": "stream",
     "text": [
      "Heat_Eq_1+1D \n",
      "-------\n",
      "StackedCKAN_deg[4, 4]_h[8] {'param_count': [12000], 'flops': [3226221568.0], 'training_time': 65.06247353553772}\n",
      "OptimizedStackedCKAN_deg[4, 4]_h[8] {'param_count': [12000], 'flops': [388137088.0], 'training_time': 27.97620439529419}\n",
      "FCN_[8, 8] {'param_count': [10500], 'flops': [299911136.0], 'training_time': 14.960596799850464}\n",
      "-------\n",
      "Kovasznay \n",
      "-------\n",
      "StackedCKAN_deg[4, 4]_h[8] {'param_count': [5000], 'flops': [24742258688.0], 'training_time': 668.8569355010986}\n",
      "OptimizedStackedCKAN_deg[4, 4]_h[8] {'param_count': [5000], 'flops': [3586045952.0], 'training_time': 197.08489799499512}\n",
      "FCN_[8, 8] {'param_count': [3075], 'flops': [1712167040.0], 'training_time': 66.44288468360901}\n",
      "-------\n"
     ]
    }
   ],
   "source": [
    "p = '../runs'\n",
    "metafile = 'test_meta.json'\n",
    "\n",
    "models = {'OptimizedStackedCKAN_deg[4, 4]_h[8]', 'StackedCKAN_deg[4, 4]_h[8]', 'FCN_[8, 8]'}\n",
    "\n",
    "for r in os.listdir(p):\n",
    "    path = os.path.join(p, r)\n",
    "    if not os.path.isdir(path):\n",
    "        continue\n",
    "    models_for_run = set(os.listdir(path))\n",
    "    if not len(models_for_run & models) == len(models):\n",
    "        continue\n",
    "    print(r, '\\n-------')\n",
    "    for mod in models:\n",
    "        with open(os.path.join(p, r, mod, metafile), 'r') as f:\n",
    "            j = json.load(f)\n",
    "        print(mod, j)\n",
    "    print('-------')"
   ]
  },
  {
   "cell_type": "code",
   "execution_count": 69,
   "id": "c48ad2d1",
   "metadata": {},
   "outputs": [
    {
     "name": "stdout",
     "output_type": "stream",
     "text": [
      "Schrodinger1D_Stationary \n",
      "-------\n",
      "StackedChebyshevKAN__deg[4, 4]_h[4] {'param_count': [4000], 'flops': [278401184.0], 'training_time': 71.62439799308777, 'get_inputs': [0]}\n",
      "StackedCKAN_deg[4, 4]_h[4] {'param_count': [8000], 'flops': [1480300800.0], 'training_time': 97.97118639945984}\n",
      "FCN_(8, 8) {'param_count': [11400], 'flops': [332280384.0], 'training_time': 122.30337762832642}\n",
      "-------\n"
     ]
    }
   ],
   "source": [
    "models = {'StackedChebyshevKAN__deg[4, 4]_h[4]', 'StackedCKAN_deg[4, 4]_h[4]', 'FCN_(8, 8)'}\n",
    "\n",
    "for r in os.listdir(p):\n",
    "    path = os.path.join(p, r)\n",
    "    if not os.path.isdir(path):\n",
    "        continue\n",
    "    models_for_run = set(os.listdir(path))\n",
    "    if not len(models_for_run & models) == len(models):\n",
    "        continue\n",
    "    print(r, '\\n-------')\n",
    "    for mod in models:\n",
    "        with open(os.path.join(p, r, mod, metafile), 'r') as f:\n",
    "            j = json.load(f)\n",
    "        print(mod, j)\n",
    "    print('-------')"
   ]
  },
  {
   "cell_type": "code",
   "execution_count": 116,
   "id": "6dd0459f",
   "metadata": {},
   "outputs": [
    {
     "name": "stdout",
     "output_type": "stream",
     "text": [
      "Heat_Eq_1+1D \n",
      "-------\n",
      "FCN_[32, 32] {'param_count': [118500], 'flops': [2979643648.0], 'training_time': 39.72765636444092}\n",
      "FCN_[8, 8] {'param_count': [10500], 'flops': [299911136.0], 'training_time': 14.960596799850464}\n",
      "OptimizedStackedCKAN_deg[4, 4]_h[4] {'param_count': [6000], 'flops': [206274400.0], 'training_time': 18.35695195198059}\n",
      "StackedCKAN_deg[4, 4]_h[4] {'param_count': [6000], 'flops': [1132760064.0], 'training_time': 18.479837894439697}\n",
      "-------\n",
      "taylorgreen \n",
      "-------\n",
      "FCN_[32, 32] {'param_count': [35532], 'flops': [143591505920.0], 'training_time': 2793.930898666382}\n",
      "FCN_[8, 8] {'param_count': [3780], 'flops': [17055542272.0], 'training_time': 715.5232744216919}\n",
      "OptimizedStackedCKAN_deg[4, 4]_h[4] {'param_count': [3780], 'flops': [20823851008.0], 'training_time': 4467.559165477753}\n",
      "StackedCKAN_deg[4, 4]_h[4] {'param_count': [3780], 'flops': [79422636032.0], 'training_time': 3303.284185409546}\n",
      "-------\n",
      "Kovasznay \n",
      "-------\n",
      "FCN_[32, 32] {'param_count': [31275], 'flops': [15274582016.0], 'training_time': 178.33267545700073}\n",
      "FCN_[8, 8] {'param_count': [3075], 'flops': [1712167040.0], 'training_time': 66.44288468360901}\n",
      "OptimizedStackedCKAN_deg[4, 4]_h[4] {'param_count': [2500], 'flops': [1669762560.0], 'training_time': 108.97391843795776}\n",
      "StackedCKAN_deg[4, 4]_h[4] {'param_count': [2500], 'flops': [7023189504.0], 'training_time': 421.09832239151}\n",
      "-------\n"
     ]
    }
   ],
   "source": [
    "models = {'OptimizedStackedCKAN_deg[4, 4]_h[4]', 'StackedCKAN_deg[4, 4]_h[4]', 'FCN_[8, 8]', 'FCN_[32, 32]'}\n",
    "\n",
    "for r in os.listdir(p):\n",
    "    path = os.path.join(p, r)\n",
    "    if not os.path.isdir(path):\n",
    "        continue\n",
    "    models_for_run = set(os.listdir(path))\n",
    "    if not len(models_for_run & models) == len(models):\n",
    "        continue\n",
    "    print(r, '\\n-------')\n",
    "    for mod in models:\n",
    "        with open(os.path.join(p, r, mod, metafile), 'r') as f:\n",
    "            j = json.load(f)\n",
    "        print(mod, j)\n",
    "    print('-------')"
   ]
  },
  {
   "cell_type": "code",
   "execution_count": 104,
   "id": "6170a8f6",
   "metadata": {},
   "outputs": [],
   "source": [
    "avg_rae = lambda exact, pred: (np.mean(np.abs(exact - pred/exact)), np.std(np.abs(exact - pred)/exact))"
   ]
  },
  {
   "cell_type": "code",
   "execution_count": 117,
   "id": "9da7b376",
   "metadata": {},
   "outputs": [
    {
     "name": "stdout",
     "output_type": "stream",
     "text": [
      "StackedJacobiKAN__deg[4, 4]_h[4] (0.67398, 0.24945608)\n",
      "FCN_[32, 32] (0.9256836, 0.96281004)\n",
      "StackedChebyshevKAN__deg[4, 4]_h[4] (0.6566216, 0.694487)\n",
      "StackedLegendreKAN__deg[4, 4]_h[4] (0.6620314, 0.45177794)\n"
     ]
    }
   ],
   "source": [
    "a = 'deg[4, 4]_h[4]'\n",
    "models = {f'StackedChebyshevKAN__{a}', f'StackedLegendreKAN__{a}', f'StackedJacobiKAN__{a}', 'FCN_[32, 32]'}\n",
    "\n",
    "problem = 'Kovasznay'\n",
    "npyfile = '_1_10000.npy'\n",
    "size = (200, 200)\n",
    "\n",
    "for mod in models:\n",
    "    with open(f'/vol/bitbucket/ss7921/FBPINNs/benchmarks/runs/{problem}/{mod}/test{npyfile}', 'rb') as f:\n",
    "        pred_mod = np.load(f).reshape(*size, -1)[1:199, 1:199, :]\n",
    "    with open(f'/vol/bitbucket/ss7921/FBPINNs/benchmarks/runs/{problem}/{mod}/test_exact_1.npy', 'rb') as f:\n",
    "        exact = np.load(f).reshape(*size, -1)[1:199, 1:199, :]\n",
    "    print(mod, avg_rae(exact, pred_mod))\n"
   ]
  },
  {
   "cell_type": "code",
   "execution_count": 111,
   "id": "f78b44cf",
   "metadata": {},
   "outputs": [
    {
     "name": "stdout",
     "output_type": "stream",
     "text": [
      "StackedJacobiKAN__deg[4, 4]_h[4] (2.505141, 17.455767)\n",
      "FCN_[32, 32] (3.9097736, 15.868542)\n",
      "StackedChebyshevKAN__deg[4, 4]_h[4] (4.9970064, 34.335377)\n",
      "StackedLegendreKAN__deg[4, 4]_h[4] (2.3201263, 9.481476)\n"
     ]
    }
   ],
   "source": [
    "a = 'deg[4, 4]_h[4]'\n",
    "models = {f'StackedChebyshevKAN__{a}', f'StackedLegendreKAN__{a}', f'StackedJacobiKAN__{a}', 'FCN_[32, 32]'}\n",
    "\n",
    "problem = 'Schrodinger1D_Stationary'\n",
    "npyfile = '_0_20000.npy'\n",
    "size = (200, 50)\n",
    "\n",
    "for mod in models:\n",
    "    with open(f'/vol/bitbucket/ss7921/FBPINNs/benchmarks/runs/{problem}/{mod}/test{npyfile}', 'rb') as f:\n",
    "        pred_mod = np.load(f).reshape(*size, -1)[1:199, 1:49, :]\n",
    "    with open(f'/vol/bitbucket/ss7921/FBPINNs/benchmarks/runs/{problem}/{mod}/test_exact_0.npy', 'rb') as f:\n",
    "        exact = np.load(f).reshape(*size, -1)[1:199, 1:49, :]\n",
    "    print(mod, avg_rae(exact, pred_mod))"
   ]
  },
  {
   "cell_type": "code",
   "execution_count": null,
   "id": "90271e62",
   "metadata": {},
   "outputs": [
    {
     "name": "stdout",
     "output_type": "stream",
     "text": [
      "StackedJacobiKAN__deg[4, 4]_h[4] (1.0162983, 0.47452098)\n",
      "StackedChebyshevKAN__deg[4, 4]_h[4] (1.0157375, 0.3985494)\n",
      "FCN_[8, 8] (1.1194336, 7.4700418)\n",
      "StackedLegendreKAN__deg[4, 4]_h[4] (1.0442443, 1.7418865)\n"
     ]
    }
   ],
   "source": [
    "a = 'deg[4, 4]_h[4]'\n",
    "models = {f'StackedChebyshevKAN__{a}', f'StackedLegendreKAN__{a}', f'StackedJacobiKAN__{a}', 'FCN_[32, 32]'}\n",
    "\n",
    "problem = 'Wave_Attention'\n",
    "npyfile = '_25000.npy'\n",
    "size = (200, 200)\n",
    "\n",
    "for mod in models:\n",
    "    with open(f'/vol/bitbucket/ss7921/FBPINNs/benchmarks/runs/{problem}/{mod}/test{npyfile}', 'rb') as f:\n",
    "        pred_mod = np.load(f).reshape(*size, -1)[1:199, 1:199, :]\n",
    "    with open(f'/vol/bitbucket/ss7921/FBPINNs/benchmarks/runs/{problem}/{mod}/test_exact.npy', 'rb') as f:\n",
    "        exact = np.load(f).reshape(*size, -1)[1:199, 1:199, :]\n",
    "    print(mod, avg_rae(exact, pred_mod))"
   ]
  },
  {
   "cell_type": "code",
   "execution_count": 110,
   "id": "2c81f550",
   "metadata": {},
   "outputs": [
    {
     "name": "stdout",
     "output_type": "stream",
     "text": [
      "StackedJacobiKAN__deg[4, 4]_h[4] (2.2046804, 14.639207)\n",
      "FCN_[32, 32] (2.196214, 14.750491)\n",
      "StackedChebyshevKAN__deg[4, 4]_h[4] (2.1422265, 13.920802)\n",
      "StackedLegendreKAN__deg[4, 4]_h[4] (2.328466, 17.207352)\n"
     ]
    }
   ],
   "source": [
    "a = 'deg[4, 4]_h[4]'\n",
    "models = {f'StackedChebyshevKAN__{a}', f'StackedLegendreKAN__{a}', f'StackedJacobiKAN__{a}', 'FCN_[32, 32]'}\n",
    "\n",
    "problem = 'HarmonicOscillator1D_HighFreq'\n",
    "npyfile = '_50000.npy'\n",
    "size = (1000)\n",
    "\n",
    "for mod in models:\n",
    "    with open(f'/vol/bitbucket/ss7921/FBPINNs/benchmarks/runs/{problem}/{mod}/test{npyfile}', 'rb') as f:\n",
    "        pred_mod = np.load(f).reshape(1000, -1)\n",
    "    with open(f'/vol/bitbucket/ss7921/FBPINNs/benchmarks/runs/{problem}/{mod}/test_exact.npy', 'rb') as f:\n",
    "        exact = np.load(f).reshape(1000, -1)\n",
    "    inds = exact != 0\n",
    "    print(mod, avg_rae(exact[inds], pred_mod[inds]))"
   ]
  },
  {
   "cell_type": "code",
   "execution_count": 92,
   "id": "9aa05505",
   "metadata": {},
   "outputs": [
    {
     "name": "stdout",
     "output_type": "stream",
     "text": [
      "HarmonicOscillator1D_HighFreq \n",
      "-------\n",
      "StackedJacobiKAN__deg[4, 4]_h[4] {'param_count': [600], 'flops': [3392038.0], 'training_time': 46.390836000442505, 'get_inputs': [0]}\n",
      "FCN_[32, 32] {'param_count': [17295], 'flops': [60268860.0], 'training_time': 26.247368812561035}\n",
      "StackedChebyshevKAN__deg[4, 4]_h[4] {'param_count': [600], 'flops': [3392038.0], 'training_time': 46.95888948440552, 'get_inputs': [0]}\n",
      "StackedLegendreKAN__deg[4, 4]_h[4] {'param_count': [600], 'flops': [3392038.0], 'training_time': 45.78388214111328, 'get_inputs': [0]}\n",
      "-------\n",
      "Schrodinger1D_Stationary \n",
      "-------\n",
      "StackedJacobiKAN__deg[4, 4]_h[4] {'param_count': [4000], 'flops': [251026832.0], 'training_time': 221.72138381004333, 'get_inputs': [0]}\n",
      "FCN_[32, 32] {'param_count': [60900], 'flops': [3026317568.0], 'training_time': 532.6302978992462, 'get_inputs': [0]}\n",
      "StackedChebyshevKAN__deg[4, 4]_h[4] {'param_count': [4000], 'flops': [278401184.0], 'training_time': 71.62439799308777, 'get_inputs': [0]}\n",
      "StackedLegendreKAN__deg[4, 4]_h[4] {'param_count': [4000], 'flops': [278401184.0], 'training_time': 71.6182234287262, 'get_inputs': [0]}\n",
      "-------\n",
      "Kovasznay \n",
      "-------\n",
      "StackedJacobiKAN__deg[4, 4]_h[4] {'param_count': [2500], 'flops': [1762775040.0], 'training_time': 140.55944228172302, 'get_inputs': [0]}\n",
      "FCN_[32, 32] {'param_count': [31275], 'flops': [15274582016.0], 'training_time': 178.33267545700073}\n",
      "StackedChebyshevKAN__deg[4, 4]_h[4] {'param_count': [2500], 'flops': [1762775040.0], 'training_time': 140.66889142990112, 'get_inputs': [0]}\n",
      "StackedLegendreKAN__deg[4, 4]_h[4] {'param_count': [2500], 'flops': [1762775040.0], 'training_time': 141.40966415405273, 'get_inputs': [0]}\n",
      "-------\n",
      "Wave_Attention \n",
      "-------\n",
      "StackedJacobiKAN__deg[4, 4]_h[4] {'param_count': [1500], 'flops': [10616117248.0], 'training_time': 1942.4431746006012, 'get_inputs': [0]}\n",
      "FCN_[32, 32] {'param_count': [29625], 'flops': [14890421248.0], 'training_time': 2581.589929819107, 'get_inputs': [0]}\n",
      "StackedChebyshevKAN__deg[4, 4]_h[4] {'param_count': [1500], 'flops': [10616117248.0], 'training_time': 1935.6912698745728, 'get_inputs': [0]}\n",
      "StackedLegendreKAN__deg[4, 4]_h[4] {'param_count': [1500], 'flops': [10616117248.0], 'training_time': 1913.7628185749054, 'get_inputs': [0]}\n",
      "-------\n"
     ]
    }
   ],
   "source": [
    "a = 'deg[4, 4]_h[4]'\n",
    "models = {f'StackedChebyshevKAN__{a}', f'StackedLegendreKAN__{a}', f'StackedJacobiKAN__{a}', 'FCN_[32, 32]'}\n",
    "\n",
    "for r in os.listdir(p):\n",
    "    path = os.path.join(p, r)\n",
    "    if not os.path.isdir(path):\n",
    "        continue\n",
    "    models_for_run = set(os.listdir(path))\n",
    "    if not len(models_for_run & models) == len(models):\n",
    "        continue\n",
    "    print(r, '\\n-------')\n",
    "    for mod in models:\n",
    "        with open(os.path.join(p, r, mod, metafile), 'r') as f:\n",
    "            j = json.load(f)\n",
    "        print(mod, j)\n",
    "    print('-------')"
   ]
  },
  {
   "cell_type": "code",
   "execution_count": 115,
   "id": "61f7b0ee",
   "metadata": {},
   "outputs": [
    {
     "name": "stdout",
     "output_type": "stream",
     "text": [
      "FCN_[32, 32] (9.528152, 123.782074)\n",
      "FCN_[8, 8] (6.107374, 65.08743)\n",
      "OptimizedStackedCKAN_deg[4, 4]_h[4] (4.475198, 52.140053)\n",
      "StackedCKAN_deg[4, 4]_h[4] (4.4200373, 51.308052)\n"
     ]
    }
   ],
   "source": [
    "models = {'OptimizedStackedCKAN_deg[4, 4]_h[4]', 'StackedCKAN_deg[4, 4]_h[4]', 'FCN_[8, 8]', 'FCN_[32, 32]'}\n",
    "\n",
    "problem = 'taylorgreen'\n",
    "npyfile = '_0_10000.npy'\n",
    "size = (50, 50, 50)\n",
    "\n",
    "for mod in models:\n",
    "    with open(f'/vol/bitbucket/ss7921/FBPINNs/benchmarks/runs/{problem}/{mod}/test{npyfile}', 'rb') as f:\n",
    "        pred_mod = np.load(f).reshape(*size, -1)\n",
    "    with open(f'/vol/bitbucket/ss7921/FBPINNs/benchmarks/runs/{problem}/{mod}/test_exact_0.npy', 'rb') as f:\n",
    "        exact = np.load(f).reshape(*size, -1)\n",
    "    inds = exact != 0\n",
    "    print(mod, avg_rae(exact[inds], pred_mod[inds]))"
   ]
  },
  {
   "cell_type": "code",
   "execution_count": null,
   "id": "2839bb8e",
   "metadata": {},
   "outputs": [],
   "source": []
  }
 ],
 "metadata": {
  "kernelspec": {
   "display_name": "dlenv",
   "language": "python",
   "name": "python3"
  },
  "language_info": {
   "codemirror_mode": {
    "name": "ipython",
    "version": 3
   },
   "file_extension": ".py",
   "mimetype": "text/x-python",
   "name": "python",
   "nbconvert_exporter": "python",
   "pygments_lexer": "ipython3",
   "version": "3.12.3"
  }
 },
 "nbformat": 4,
 "nbformat_minor": 5
}
