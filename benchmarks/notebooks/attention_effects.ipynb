{
 "cells": [
  {
   "cell_type": "code",
   "execution_count": 1,
   "id": "57273cf0",
   "metadata": {},
   "outputs": [],
   "source": [
    "import os\n",
    "import numpy as np\n",
    "import matplotlib.pyplot as plt\n",
    "import os\n",
    "from benchmarks.runs.exploring_utils import RunAnalyser, adaptive_filter, non_adaptive_filter, model_filter\n",
    "import re\n",
    "import json"
   ]
  },
  {
   "cell_type": "code",
   "execution_count": 2,
   "id": "0d1f4173",
   "metadata": {},
   "outputs": [
    {
     "name": "stdout",
     "output_type": "stream",
     "text": [
      "Wave_200 \n",
      "-------\n",
      "FCN_[8, 8] {'param_count': [2625], 'flops': [1499117824.0], 'training_time': 508.6075804233551, 'get_inputs': [0]}\n",
      "StackedChebyshevKAN__deg[6, 6]_h[4] {'param_count': [2100], 'flops': [1271745536.0], 'training_time': 1530.282376050949, 'get_inputs': [0]}\n",
      "FCN_[32, 32] {'param_count': [29625], 'flops': [14890421248.0], 'training_time': 2580.7133395671844, 'get_inputs': [0]}\n",
      "StackedLegendreKAN__deg[6, 6]_h[4] {'param_count': [2100], 'flops': [1271745536.0], 'training_time': 1532.0994145870209, 'get_inputs': [0]}\n",
      "StackedJacobiKAN__deg[6, 6]_h[4] {'param_count': [2100], 'flops': [1271745536.0], 'training_time': 1530.0240194797516, 'get_inputs': [0]}\n",
      "-------\n",
      "Burgers_1+1D_Attention \n",
      "-------\n",
      "FCN_[8, 8] {'param_count': [21000], 'flops': [3030500096.0], 'training_time': 190.3066532611847, 'get_inputs': [0]}\n",
      "StackedChebyshevKAN__deg[6, 6]_h[4] {'param_count': [16800], 'flops': [2916711936.0], 'training_time': 1389.8733563423157, 'get_inputs': [0]}\n",
      "FCN_[32, 32] {'param_count': [237000], 'flops': [8618063872.0], 'training_time': 602.1432754993439, 'get_inputs': [0]}\n",
      "StackedLegendreKAN__deg[6, 6]_h[4] {'param_count': [16800], 'flops': [2916711936.0], 'training_time': 1389.2716944217682, 'get_inputs': [0]}\n",
      "StackedJacobiKAN__deg[6, 6]_h[4] {'param_count': [16800], 'flops': [2916711936.0], 'training_time': 1391.8657064437866, 'get_inputs': [0]}\n",
      "-------\n",
      "HarmonicOscillator1D_HighFreq \n",
      "-------\n",
      "FCN_[8, 8] {'param_count': [1455], 'flops': [8096771.0], 'training_time': 25.720314025878906}\n",
      "StackedChebyshevKAN__deg[6, 6]_h[4] {'param_count': [840], 'flops': [4077150.0], 'training_time': 52.87045979499817, 'get_inputs': [0]}\n",
      "FCN_[32, 32] {'param_count': [17295], 'flops': [60268860.0], 'training_time': 26.247368812561035}\n",
      "StackedLegendreKAN__deg[6, 6]_h[4] {'param_count': [840], 'flops': [4077150.0], 'training_time': 53.68495798110962, 'get_inputs': [0]}\n",
      "StackedJacobiKAN__deg[6, 6]_h[4] {'param_count': [840], 'flops': [4077150.0], 'training_time': 54.72247362136841, 'get_inputs': [0]}\n",
      "-------\n",
      "Burgers_1+1D \n",
      "-------\n",
      "FCN_[8, 8] {'param_count': [21000], 'flops': [630579520.0], 'training_time': 137.20354318618774, 'get_inputs': [0]}\n",
      "StackedChebyshevKAN__deg[6, 6]_h[4] {'param_count': [16800], 'flops': [516771808.0], 'training_time': 1082.1926097869873, 'get_inputs': [0]}\n",
      "FCN_[32, 32] {'param_count': [237000], 'flops': [6218144256.0], 'training_time': 548.6431038379669, 'get_inputs': [0]}\n",
      "StackedLegendreKAN__deg[6, 6]_h[4] {'param_count': [16800], 'flops': [516771808.0], 'training_time': 1084.147405385971, 'get_inputs': [0]}\n",
      "StackedJacobiKAN__deg[6, 6]_h[4] {'param_count': [16800], 'flops': [516771808.0], 'training_time': 1082.5640952587128, 'get_inputs': [0]}\n",
      "-------\n",
      "Wave_Attention \n",
      "-------\n",
      "FCN_[8, 8] {'param_count': [2625], 'flops': [1499117824.0], 'training_time': 332.0353066921234, 'get_inputs': [0]}\n",
      "StackedChebyshevKAN__deg[6, 6]_h[4] {'param_count': [2100], 'flops': [10871625728.0], 'training_time': 2456.0954990386963, 'get_inputs': [0]}\n",
      "FCN_[32, 32] {'param_count': [29625], 'flops': [14890421248.0], 'training_time': 2581.589929819107, 'get_inputs': [0]}\n",
      "StackedLegendreKAN__deg[6, 6]_h[4] {'param_count': [2100], 'flops': [10871625728.0], 'training_time': 2450.0721685886383, 'get_inputs': [0]}\n",
      "StackedJacobiKAN__deg[6, 6]_h[4] {'param_count': [2100], 'flops': [10871625728.0], 'training_time': 2464.373625278473, 'get_inputs': [0]}\n",
      "-------\n"
     ]
    }
   ],
   "source": [
    "p = '../runs'\n",
    "metafile = 'test_meta.json'\n",
    "\n",
    "models = {\n",
    "    'StackedChebyshevKAN__deg[6, 6]_h[4]', \n",
    "    'StackedJacobiKAN__deg[6, 6]_h[4]', \n",
    "    'StackedLegendreKAN__deg[6, 6]_h[4]',\n",
    "    'FCN_[8, 8]',\n",
    "    'FCN_[32, 32]'\n",
    "    }\n",
    "\n",
    "for r in os.listdir(p):\n",
    "    path = os.path.join(p, r)\n",
    "    if not os.path.isdir(path):\n",
    "        continue\n",
    "    models_for_run = set(os.listdir(path))\n",
    "    if not len(models_for_run & models) == len(models):\n",
    "        continue\n",
    "    print(r, '\\n-------')\n",
    "    for mod in models:\n",
    "        with open(os.path.join(p, r, mod, metafile), 'r') as f:\n",
    "            j = json.load(f)\n",
    "        print(mod, j)\n",
    "    print('-------')"
   ]
  },
  {
   "cell_type": "code",
   "execution_count": 41,
   "id": "b86fb2ac",
   "metadata": {},
   "outputs": [],
   "source": [
    "avg_rae = lambda exact, pred: (np.mean(np.abs(exact - pred/exact)), np.std(np.abs(exact - pred)/exact))"
   ]
  },
  {
   "cell_type": "code",
   "execution_count": 17,
   "id": "97fcf5c5",
   "metadata": {},
   "outputs": [
    {
     "name": "stdout",
     "output_type": "stream",
     "text": [
      "FCN_[8, 8] (2.767501, 86.807396)\n",
      "StackedChebyshevKAN__deg[6, 6]_h[4] (2.377725, 74.32186)\n",
      "FCN_[32, 32] (1.112726, 7.133954)\n",
      "StackedLegendreKAN__deg[6, 6]_h[4] (2.9135313, 104.11094)\n",
      "StackedJacobiKAN__deg[6, 6]_h[4] (1.0208318, 1.6245456)\n"
     ]
    }
   ],
   "source": [
    "\n",
    "# models = {\n",
    "#     'StackedChebyshevKAN__deg[4, 4]_h[8]',\n",
    "#     'StackedLegendreKAN__deg[4, 4]_h[12]',\n",
    "#     'StackedJacobiKAN__deg[4, 4]_h[4]',\n",
    "#     'StackedHermiteKAN__deg[6, 6]_h[4]',\n",
    "#     'StackedJacobiKAN__deg[6, 6]_h[8]',\n",
    "#     'StackedHermiteKAN__deg[4, 4]_h[8]',\n",
    "#     'StackedChebyshevKAN__deg[8, 8]_h[4]',\n",
    "#     'StackedChebyshevKAN__deg[6, 6]_h[4]',\n",
    "#     'StackedLegendreKAN__deg[4, 4]_h[4]',\n",
    "#     'FCN_[8, 8]',\n",
    "#     'StackedLegendreKAN__deg[4, 4]_h[2]',\n",
    "#     'StackedChebyshevKAN__deg[4, 4]_h[12]',\n",
    "#     'FCN_[32, 32]',\n",
    "#     'StackedJacobiKAN__deg[4, 4]_h[2]',\n",
    "#     'StackedHermiteKAN__deg[4, 4]_h[2]',\n",
    "#     'StackedChebyshevKAN__deg[4, 4]_h[2]',\n",
    "#     'StackedJacobiKAN__deg[4, 4]_h[8]',\n",
    "#     'StackedLegendreKAN__deg[8, 8]_h[4]',\n",
    "#     'StackedLegendreKAN__deg[6, 6]_h[4]',\n",
    "#     'StackedChebyshevKAN__deg[4, 4]_h[4]',\n",
    "#     'StackedLegendreKAN__deg[4, 4]_h[8]',\n",
    "#     'StackedHermiteKAN__deg[4, 4]_h[12]',\n",
    "#     'StackedJacobiKAN__deg[8, 8]_h[4]',\n",
    "#     'StackedJacobiKAN__deg[6, 6]_h[4]',\n",
    "#     'StackedHermiteKAN__deg[4, 4]_h[4]'\n",
    "# }\n",
    "models = {\n",
    "    'StackedChebyshevKAN__deg[6, 6]_h[4]', \n",
    "    'StackedJacobiKAN__deg[6, 6]_h[4]', \n",
    "    'StackedLegendreKAN__deg[6, 6]_h[4]',\n",
    "    'FCN_[8, 8]',\n",
    "    'FCN_[32, 32]',\n",
    "    # 'StackedJacobiKAN__deg[4, 4]_h[8]',\n",
    "    # 'StackedJacobiKAN__deg[4, 4]_h[4]'\n",
    "    }\n",
    "\n",
    "problem = 'Wave_Attention'\n",
    "npyfile = '_10000.npy'\n",
    "size = (200, 200)\n",
    "\n",
    "for mod in models:\n",
    "    with open(f'/vol/bitbucket/ss7921/FBPINNs/benchmarks/runs/{problem}/{mod}/test{npyfile}', 'rb') as f:\n",
    "        pred_mod = np.load(f).reshape(*size, -1)\n",
    "    with open(f'/vol/bitbucket/ss7921/FBPINNs/benchmarks/runs/{problem}/{mod}/test_exact.npy', 'rb') as f:\n",
    "        exact = np.load(f).reshape(*size, -1)\n",
    "    ids = exact != 0\n",
    "    print(mod, avg_rae(exact[ids], pred_mod[ids]))"
   ]
  },
  {
   "cell_type": "code",
   "execution_count": 22,
   "id": "a586797d",
   "metadata": {},
   "outputs": [
    {
     "name": "stdout",
     "output_type": "stream",
     "text": [
      "FCN_[8, 8] (2.7679253, 86.82413)\n",
      "StackedChebyshevKAN__deg[6, 6]_h[4] (1.5784013, 32.754948)\n",
      "FCN_[32, 32] (1.1136168, 7.1859455)\n",
      "StackedLegendreKAN__deg[6, 6]_h[4] (2.5445638, 83.708275)\n",
      "StackedJacobiKAN__deg[6, 6]_h[4] (1.014611, 0.49003682)\n"
     ]
    }
   ],
   "source": [
    "models = {\n",
    "    'StackedChebyshevKAN__deg[6, 6]_h[4]', \n",
    "    'StackedJacobiKAN__deg[6, 6]_h[4]', \n",
    "    'StackedLegendreKAN__deg[6, 6]_h[4]',\n",
    "    'FCN_[8, 8]',\n",
    "    'FCN_[32, 32]',\n",
    "    # 'StackedJacobiKAN__deg[4, 4]_h[8]',\n",
    "    # 'StackedJacobiKAN__deg[4, 4]_h[4]'\n",
    "    }\n",
    "\n",
    "problem = 'Wave_200'\n",
    "npyfile = '_10000.npy'\n",
    "size = (200, 200)\n",
    "\n",
    "for mod in models:\n",
    "    with open(f'/vol/bitbucket/ss7921/FBPINNs/benchmarks/runs/{problem}/{mod}/test{npyfile}', 'rb') as f:\n",
    "        pred_mod = np.load(f).reshape(*size, -1)\n",
    "    with open(f'/vol/bitbucket/ss7921/FBPINNs/benchmarks/runs/{problem}/{mod}/test_exact.npy', 'rb') as f:\n",
    "        exact = np.load(f).reshape(*size, -1)\n",
    "    ids = exact != 0\n",
    "    print(mod, avg_rae(exact[ids], pred_mod[ids]))"
   ]
  },
  {
   "cell_type": "code",
   "execution_count": 40,
   "id": "c4d64273",
   "metadata": {},
   "outputs": [],
   "source": [
    "avg_ae = lambda exact, pred: (np.mean(np.abs(exact - pred)), np.std(np.abs(exact - pred)))"
   ]
  },
  {
   "cell_type": "code",
   "execution_count": 44,
   "id": "7963c53a",
   "metadata": {},
   "outputs": [
    {
     "name": "stdout",
     "output_type": "stream",
     "text": [
      "FCN_[8, 8] (0.0011369063, 0.016404618)\n",
      "StackedChebyshevKAN__deg[6, 6]_h[4] (0.0057717096, 0.034118026)\n",
      "FCN_[32, 32] (0.0024976484, 0.030078797)\n",
      "StackedLegendreKAN__deg[6, 6]_h[4] (0.0050058854, 0.03366818)\n",
      "StackedJacobiKAN__deg[6, 6]_h[4] (0.031339064, 0.082075)\n"
     ]
    }
   ],
   "source": [
    "models = {\n",
    "    'StackedChebyshevKAN__deg[6, 6]_h[4]', \n",
    "    'StackedJacobiKAN__deg[6, 6]_h[4]', \n",
    "    'StackedLegendreKAN__deg[6, 6]_h[4]',\n",
    "    'FCN_[8, 8]',\n",
    "    'FCN_[32, 32]',\n",
    "    }\n",
    "\n",
    "problem = 'Burgers_1+1D'\n",
    "npyfile = '_40000.npy'\n",
    "size = (200, 100)\n",
    "\n",
    "for mod in models:\n",
    "    with open(f'/vol/bitbucket/ss7921/FBPINNs/benchmarks/runs/{problem}/{mod}/test{npyfile}', 'rb') as f:\n",
    "        pred_mod = np.load(f).reshape(*size, -1)\n",
    "    with open(f'/vol/bitbucket/ss7921/FBPINNs/benchmarks/runs/{problem}/{mod}/test_exact.npy', 'rb') as f:\n",
    "        exact = np.load(f).reshape(*size, -1)\n",
    "    ids = exact != 0\n",
    "    print(mod, avg_ae(exact[ids], pred_mod[ids]))"
   ]
  },
  {
   "cell_type": "code",
   "execution_count": 45,
   "id": "24e2163e",
   "metadata": {},
   "outputs": [
    {
     "name": "stdout",
     "output_type": "stream",
     "text": [
      "FCN_[8, 8] (0.00140299, 0.018228827)\n",
      "StackedChebyshevKAN__deg[6, 6]_h[4] (0.004442925, 0.032627955)\n",
      "FCN_[32, 32] (0.0024937047, 0.027412428)\n",
      "StackedLegendreKAN__deg[6, 6]_h[4] (0.005543387, 0.03360791)\n",
      "StackedJacobiKAN__deg[6, 6]_h[4] (0.012917738, 0.041240633)\n"
     ]
    }
   ],
   "source": [
    "models = {\n",
    "    'StackedChebyshevKAN__deg[6, 6]_h[4]', \n",
    "    'StackedJacobiKAN__deg[6, 6]_h[4]', \n",
    "    'StackedLegendreKAN__deg[6, 6]_h[4]',\n",
    "    'FCN_[8, 8]',\n",
    "    'FCN_[32, 32]',\n",
    "    }\n",
    "\n",
    "problem = 'Burgers_1+1D_Attention'\n",
    "npyfile = '_40000.npy'\n",
    "size = (200, 100)\n",
    "\n",
    "for mod in models:\n",
    "    with open(f'/vol/bitbucket/ss7921/FBPINNs/benchmarks/runs/{problem}/{mod}/test{npyfile}', 'rb') as f:\n",
    "        pred_mod = np.load(f).reshape(*size, -1)\n",
    "    with open(f'/vol/bitbucket/ss7921/FBPINNs/benchmarks/runs/{problem}/{mod}/test_exact.npy', 'rb') as f:\n",
    "        exact = np.load(f).reshape(*size, -1)\n",
    "    ids = exact != 0\n",
    "    print(mod, avg_ae(exact[ids], pred_mod[ids]))"
   ]
  },
  {
   "cell_type": "code",
   "execution_count": null,
   "id": "99603512",
   "metadata": {},
   "outputs": [],
   "source": []
  }
 ],
 "metadata": {
  "kernelspec": {
   "display_name": "dlenv",
   "language": "python",
   "name": "python3"
  },
  "language_info": {
   "codemirror_mode": {
    "name": "ipython",
    "version": 3
   },
   "file_extension": ".py",
   "mimetype": "text/x-python",
   "name": "python",
   "nbconvert_exporter": "python",
   "pygments_lexer": "ipython3",
   "version": "3.12.3"
  }
 },
 "nbformat": 4,
 "nbformat_minor": 5
}
